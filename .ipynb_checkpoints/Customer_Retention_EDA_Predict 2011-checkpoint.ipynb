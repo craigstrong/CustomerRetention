{
 "cells": [
  {
   "cell_type": "markdown",
   "metadata": {},
   "source": [
    "## Customer Retention EDA Predict 2011"
   ]
  },
  {
   "cell_type": "code",
   "execution_count": 1,
   "metadata": {},
   "outputs": [],
   "source": [
    "# Import libaries\n",
    "import pandas as pd\n",
    "import numpy as np\n",
    "\n",
    "import matplotlib.pyplot as plt"
   ]
  },
  {
   "cell_type": "code",
   "execution_count": 6,
   "metadata": {},
   "outputs": [],
   "source": [
    "df = pd.read_csv('CO_2010.csv')"
   ]
  },
  {
   "cell_type": "code",
   "execution_count": 7,
   "metadata": {},
   "outputs": [
    {
     "data": {
      "text/html": [
       "<div>\n",
       "<style scoped>\n",
       "    .dataframe tbody tr th:only-of-type {\n",
       "        vertical-align: middle;\n",
       "    }\n",
       "\n",
       "    .dataframe tbody tr th {\n",
       "        vertical-align: top;\n",
       "    }\n",
       "\n",
       "    .dataframe thead th {\n",
       "        text-align: right;\n",
       "    }\n",
       "</style>\n",
       "<table border=\"1\" class=\"dataframe\">\n",
       "  <thead>\n",
       "    <tr style=\"text-align: right;\">\n",
       "      <th></th>\n",
       "      <th>Age</th>\n",
       "      <th>City</th>\n",
       "      <th>StateProvinceCode</th>\n",
       "      <th>PostalCode</th>\n",
       "      <th>CustomerLifetimeSpend</th>\n",
       "      <th>Customer1YearSpend</th>\n",
       "      <th>Customer3YearSpend</th>\n",
       "      <th>IsDeleted</th>\n",
       "      <th>ThreeYearVisitCount</th>\n",
       "      <th>SkiAbility</th>\n",
       "      <th>...</th>\n",
       "      <th>February</th>\n",
       "      <th>March</th>\n",
       "      <th>April</th>\n",
       "      <th>November</th>\n",
       "      <th>December</th>\n",
       "      <th>Ski_Resort1</th>\n",
       "      <th>Ski_Resort2</th>\n",
       "      <th>Ski_Resort3</th>\n",
       "      <th>Ski_Resort4</th>\n",
       "      <th>Ski_Resort5</th>\n",
       "    </tr>\n",
       "  </thead>\n",
       "  <tbody>\n",
       "    <tr>\n",
       "      <th>0</th>\n",
       "      <td>22</td>\n",
       "      <td>Fort Collins</td>\n",
       "      <td>CO</td>\n",
       "      <td>80526</td>\n",
       "      <td>1261.08</td>\n",
       "      <td>8.79</td>\n",
       "      <td>1070.79</td>\n",
       "      <td>False</td>\n",
       "      <td>23.0</td>\n",
       "      <td>NaN</td>\n",
       "      <td>...</td>\n",
       "      <td>2</td>\n",
       "      <td>0</td>\n",
       "      <td>0</td>\n",
       "      <td>0</td>\n",
       "      <td>0</td>\n",
       "      <td>0</td>\n",
       "      <td>0</td>\n",
       "      <td>0</td>\n",
       "      <td>0</td>\n",
       "      <td>2</td>\n",
       "    </tr>\n",
       "    <tr>\n",
       "      <th>1</th>\n",
       "      <td>57</td>\n",
       "      <td>Fraser</td>\n",
       "      <td>CO</td>\n",
       "      <td>80442</td>\n",
       "      <td>8243.34</td>\n",
       "      <td>1197.00</td>\n",
       "      <td>3382.34</td>\n",
       "      <td>False</td>\n",
       "      <td>16.0</td>\n",
       "      <td>NaN</td>\n",
       "      <td>...</td>\n",
       "      <td>10</td>\n",
       "      <td>0</td>\n",
       "      <td>0</td>\n",
       "      <td>0</td>\n",
       "      <td>0</td>\n",
       "      <td>0</td>\n",
       "      <td>0</td>\n",
       "      <td>0</td>\n",
       "      <td>0</td>\n",
       "      <td>10</td>\n",
       "    </tr>\n",
       "    <tr>\n",
       "      <th>2</th>\n",
       "      <td>68</td>\n",
       "      <td>Denver</td>\n",
       "      <td>CO</td>\n",
       "      <td>80211</td>\n",
       "      <td>4691.67</td>\n",
       "      <td>918.03</td>\n",
       "      <td>2199.67</td>\n",
       "      <td>False</td>\n",
       "      <td>13.0</td>\n",
       "      <td>NaN</td>\n",
       "      <td>...</td>\n",
       "      <td>0</td>\n",
       "      <td>1</td>\n",
       "      <td>0</td>\n",
       "      <td>1</td>\n",
       "      <td>1</td>\n",
       "      <td>0</td>\n",
       "      <td>0</td>\n",
       "      <td>0</td>\n",
       "      <td>0</td>\n",
       "      <td>5</td>\n",
       "    </tr>\n",
       "    <tr>\n",
       "      <th>3</th>\n",
       "      <td>39</td>\n",
       "      <td>Fort Collins</td>\n",
       "      <td>CO</td>\n",
       "      <td>80525</td>\n",
       "      <td>3798.48</td>\n",
       "      <td>678.00</td>\n",
       "      <td>1406.48</td>\n",
       "      <td>False</td>\n",
       "      <td>13.0</td>\n",
       "      <td>NaN</td>\n",
       "      <td>...</td>\n",
       "      <td>0</td>\n",
       "      <td>0</td>\n",
       "      <td>0</td>\n",
       "      <td>1</td>\n",
       "      <td>5</td>\n",
       "      <td>0</td>\n",
       "      <td>0</td>\n",
       "      <td>0</td>\n",
       "      <td>0</td>\n",
       "      <td>9</td>\n",
       "    </tr>\n",
       "    <tr>\n",
       "      <th>4</th>\n",
       "      <td>31</td>\n",
       "      <td>Parker</td>\n",
       "      <td>CO</td>\n",
       "      <td>80138</td>\n",
       "      <td>2641.13</td>\n",
       "      <td>0.00</td>\n",
       "      <td>886.13</td>\n",
       "      <td>False</td>\n",
       "      <td>21.0</td>\n",
       "      <td>NaN</td>\n",
       "      <td>...</td>\n",
       "      <td>0</td>\n",
       "      <td>0</td>\n",
       "      <td>2</td>\n",
       "      <td>0</td>\n",
       "      <td>1</td>\n",
       "      <td>0</td>\n",
       "      <td>0</td>\n",
       "      <td>0</td>\n",
       "      <td>0</td>\n",
       "      <td>3</td>\n",
       "    </tr>\n",
       "  </tbody>\n",
       "</table>\n",
       "<p>5 rows × 47 columns</p>\n",
       "</div>"
      ],
      "text/plain": [
       "   Age          City StateProvinceCode PostalCode  CustomerLifetimeSpend  \\\n",
       "0   22  Fort Collins                CO      80526                1261.08   \n",
       "1   57        Fraser                CO      80442                8243.34   \n",
       "2   68        Denver                CO      80211                4691.67   \n",
       "3   39  Fort Collins                CO      80525                3798.48   \n",
       "4   31        Parker                CO      80138                2641.13   \n",
       "\n",
       "   Customer1YearSpend  Customer3YearSpend  IsDeleted  ThreeYearVisitCount  \\\n",
       "0                8.79             1070.79      False                 23.0   \n",
       "1             1197.00             3382.34      False                 16.0   \n",
       "2              918.03             2199.67      False                 13.0   \n",
       "3              678.00             1406.48      False                 13.0   \n",
       "4                0.00              886.13      False                 21.0   \n",
       "\n",
       "  SkiAbility     ...      February  March April November  December  \\\n",
       "0        NaN     ...             2      0     0        0         0   \n",
       "1        NaN     ...            10      0     0        0         0   \n",
       "2        NaN     ...             0      1     0        1         1   \n",
       "3        NaN     ...             0      0     0        1         5   \n",
       "4        NaN     ...             0      0     2        0         1   \n",
       "\n",
       "   Ski_Resort1  Ski_Resort2  Ski_Resort3  Ski_Resort4  Ski_Resort5  \n",
       "0            0            0            0            0            2  \n",
       "1            0            0            0            0           10  \n",
       "2            0            0            0            0            5  \n",
       "3            0            0            0            0            9  \n",
       "4            0            0            0            0            3  \n",
       "\n",
       "[5 rows x 47 columns]"
      ]
     },
     "execution_count": 7,
     "metadata": {},
     "output_type": "execute_result"
    }
   ],
   "source": [
    "df.head()"
   ]
  },
  {
   "cell_type": "code",
   "execution_count": 9,
   "metadata": {},
   "outputs": [
    {
     "data": {
      "text/plain": [
       "Index(['Age', 'City', 'StateProvinceCode', 'PostalCode',\n",
       "       'CustomerLifetimeSpend', 'Customer1YearSpend', 'Customer3YearSpend',\n",
       "       'IsDeleted', 'ThreeYearVisitCount', 'SkiAbility',\n",
       "       'NearestMajorAirportCode', 'SkiLoyaltyIndexRating', 'IsWinterGuest',\n",
       "       'IsSummerGuest', 'FrontRangeMarket', 'CustId', 'Spend_Winter_2010',\n",
       "       'Spend_Winter_2011', 'Spend_Winter_2012', 'Spend_Winter_2013',\n",
       "       'Spend_Winter_2014', 'Spend_Winter_2015', 'Household1YearSpend',\n",
       "       'Household3YearSpend', 'HouseholdLifetimeSpend', 'HouseholdIncome',\n",
       "       'NumberOfHouseholdMembers', 'NumberOfAdults', 'NumberOfChildren',\n",
       "       'HouseholdCreateDate', 'Pass_Winter_2010', 'Pass_Winter_2011',\n",
       "       'Pass_Winter_2012', 'Pass_Winter_2013', 'Pass_Winter_2014',\n",
       "       'Pass_Winter_2015', 'January', 'February', 'March', 'April', 'November',\n",
       "       'December', 'Ski_Resort1', 'Ski_Resort2', 'Ski_Resort3', 'Ski_Resort4',\n",
       "       'Ski_Resort5'],\n",
       "      dtype='object')"
      ]
     },
     "execution_count": 9,
     "metadata": {},
     "output_type": "execute_result"
    }
   ],
   "source": [
    "df.columns"
   ]
  },
  {
   "cell_type": "code",
   "execution_count": 10,
   "metadata": {},
   "outputs": [
    {
     "data": {
      "text/plain": [
       "Age                           int64\n",
       "City                         object\n",
       "StateProvinceCode            object\n",
       "PostalCode                   object\n",
       "CustomerLifetimeSpend       float64\n",
       "Customer1YearSpend          float64\n",
       "Customer3YearSpend          float64\n",
       "IsDeleted                      bool\n",
       "ThreeYearVisitCount         float64\n",
       "SkiAbility                   object\n",
       "NearestMajorAirportCode      object\n",
       "SkiLoyaltyIndexRating       float64\n",
       "IsWinterGuest                object\n",
       "IsSummerGuest                object\n",
       "FrontRangeMarket            float64\n",
       "CustId                        int64\n",
       "Spend_Winter_2010           float64\n",
       "Spend_Winter_2011           float64\n",
       "Spend_Winter_2012           float64\n",
       "Spend_Winter_2013           float64\n",
       "Spend_Winter_2014           float64\n",
       "Spend_Winter_2015           float64\n",
       "Household1YearSpend         float64\n",
       "Household3YearSpend         float64\n",
       "HouseholdLifetimeSpend      float64\n",
       "HouseholdIncome             float64\n",
       "NumberOfHouseholdMembers    float64\n",
       "NumberOfAdults              float64\n",
       "NumberOfChildren            float64\n",
       "HouseholdCreateDate          object\n",
       "Pass_Winter_2010              int64\n",
       "Pass_Winter_2011              int64\n",
       "Pass_Winter_2012              int64\n",
       "Pass_Winter_2013              int64\n",
       "Pass_Winter_2014              int64\n",
       "Pass_Winter_2015              int64\n",
       "January                       int64\n",
       "February                      int64\n",
       "March                         int64\n",
       "April                         int64\n",
       "November                      int64\n",
       "December                      int64\n",
       "Ski_Resort1                   int64\n",
       "Ski_Resort2                   int64\n",
       "Ski_Resort3                   int64\n",
       "Ski_Resort4                   int64\n",
       "Ski_Resort5                   int64\n",
       "dtype: object"
      ]
     },
     "execution_count": 10,
     "metadata": {},
     "output_type": "execute_result"
    }
   ],
   "source": [
    "df.dtypes"
   ]
  },
  {
   "cell_type": "code",
   "execution_count": 11,
   "metadata": {},
   "outputs": [
    {
     "data": {
      "text/plain": [
       "(14115, 47)"
      ]
     },
     "execution_count": 11,
     "metadata": {},
     "output_type": "execute_result"
    }
   ],
   "source": [
    "df.shape"
   ]
  },
  {
   "cell_type": "code",
   "execution_count": 15,
   "metadata": {},
   "outputs": [
    {
     "data": {
      "text/plain": [
       "Age                             0\n",
       "City                            1\n",
       "StateProvinceCode               0\n",
       "PostalCode                     43\n",
       "CustomerLifetimeSpend           0\n",
       "Customer1YearSpend              0\n",
       "Customer3YearSpend              0\n",
       "IsDeleted                       0\n",
       "ThreeYearVisitCount           121\n",
       "SkiAbility                  14041\n",
       "NearestMajorAirportCode       157\n",
       "SkiLoyaltyIndexRating         121\n",
       "IsWinterGuest                 121\n",
       "IsSummerGuest                 121\n",
       "FrontRangeMarket              121\n",
       "CustId                          0\n",
       "Spend_Winter_2010               0\n",
       "Spend_Winter_2011               0\n",
       "Spend_Winter_2012               0\n",
       "Spend_Winter_2013               0\n",
       "Spend_Winter_2014               0\n",
       "Spend_Winter_2015               0\n",
       "Household1YearSpend             0\n",
       "Household3YearSpend             0\n",
       "HouseholdLifetimeSpend          0\n",
       "HouseholdIncome             14115\n",
       "NumberOfHouseholdMembers       55\n",
       "NumberOfAdults                 55\n",
       "NumberOfChildren               55\n",
       "HouseholdCreateDate             0\n",
       "Pass_Winter_2010                0\n",
       "Pass_Winter_2011                0\n",
       "Pass_Winter_2012                0\n",
       "Pass_Winter_2013                0\n",
       "Pass_Winter_2014                0\n",
       "Pass_Winter_2015                0\n",
       "January                         0\n",
       "February                        0\n",
       "March                           0\n",
       "April                           0\n",
       "November                        0\n",
       "December                        0\n",
       "Ski_Resort1                     0\n",
       "Ski_Resort2                     0\n",
       "Ski_Resort3                     0\n",
       "Ski_Resort4                     0\n",
       "Ski_Resort5                     0\n",
       "dtype: int64"
      ]
     },
     "execution_count": 15,
     "metadata": {},
     "output_type": "execute_result"
    }
   ],
   "source": [
    "df.isnull().sum()"
   ]
  },
  {
   "cell_type": "code",
   "execution_count": 41,
   "metadata": {},
   "outputs": [],
   "source": [
    "X = ['Age', 'City', 'StateProvinceCode', 'PostalCode', 'CustomerLifetimeSpend', 'Customer1YearSpend',\n",
    "    'Customer3YearSpend', 'ThreeYearVisitCount', 'SkiLoyaltyIndexRating', 'IsWinterGuest',\n",
    "    'IsSummerGuest', 'FrontRangeMarket', 'Spend_Winter_2010', 'Household1YearSpend',\n",
    "    'Household3YearSpend', 'HouseholdLifetimeSpend', 'NumberOfHouseholdMembers', 'NumberOfAdults', \n",
    "    'NumberOfChildren', 'Pass_Winter_2010', 'January', 'February', 'March', 'April', 'November',\n",
    "    'December', 'Ski_Resort1', 'Ski_Resort2', 'Ski_Resort3', 'Ski_Resort4', 'Ski_Resort5','Pass_Winter_2011']"
   ]
  },
  {
   "cell_type": "code",
   "execution_count": 14,
   "metadata": {},
   "outputs": [],
   "source": [
    "#Y = ['Pass_Winter_2011']"
   ]
  },
  {
   "cell_type": "code",
   "execution_count": 32,
   "metadata": {},
   "outputs": [
    {
     "data": {
      "text/plain": [
       "Age                         0\n",
       "City                        1\n",
       "StateProvinceCode           0\n",
       "PostalCode                  0\n",
       "CustomerLifetimeSpend       0\n",
       "Customer1YearSpend          0\n",
       "Customer3YearSpend          0\n",
       "ThreeYearVisitCount         0\n",
       "SkiLoyaltyIndexRating       0\n",
       "IsWinterGuest               0\n",
       "IsSummerGuest               0\n",
       "FrontRangeMarket            0\n",
       "Spend_Winter_2010           0\n",
       "Household1YearSpend         0\n",
       "Household3YearSpend         0\n",
       "HouseholdLifetimeSpend      0\n",
       "NumberOfHouseholdMembers    0\n",
       "NumberOfAdults              0\n",
       "NumberOfChildren            0\n",
       "Pass_Winter_2010            0\n",
       "January                     0\n",
       "February                    0\n",
       "March                       0\n",
       "April                       0\n",
       "November                    0\n",
       "December                    0\n",
       "Ski_Resort1                 0\n",
       "Ski_Resort2                 0\n",
       "Ski_Resort3                 0\n",
       "Ski_Resort4                 0\n",
       "Ski_Resort5                 0\n",
       "dtype: int64"
      ]
     },
     "execution_count": 32,
     "metadata": {},
     "output_type": "execute_result"
    }
   ],
   "source": [
    "df[X].isnull().sum()"
   ]
  },
  {
   "cell_type": "code",
   "execution_count": 34,
   "metadata": {},
   "outputs": [],
   "source": [
    "df['ThreeYearVisitCount'].fillna(0, inplace = True)\n",
    "df['SkiLoyaltyIndexRating'].fillna(0, inplace = True)\n",
    "df['IsWinterGuest'].fillna(0, inplace = True)\n",
    "df['IsSummerGuest'].fillna(0, inplace = True)\n",
    "df['NumberOfHouseholdMembers'].fillna(1, inplace = True)\n",
    "df['NumberOfAdults'].fillna(1, inplace = True)\n",
    "df['NumberOfChildren'].fillna(0, inplace = True)\n",
    "df['PostalCode'].fillna('80402', inplace = True)\n",
    "df['FrontRangeMarket'].fillna('80402', inplace = True)\n",
    "df['City'].fillna('Unknown', inplace = True)"
   ]
  },
  {
   "cell_type": "code",
   "execution_count": 29,
   "metadata": {
    "scrolled": true
   },
   "outputs": [
    {
     "data": {
      "text/html": [
       "<div>\n",
       "<style scoped>\n",
       "    .dataframe tbody tr th:only-of-type {\n",
       "        vertical-align: middle;\n",
       "    }\n",
       "\n",
       "    .dataframe tbody tr th {\n",
       "        vertical-align: top;\n",
       "    }\n",
       "\n",
       "    .dataframe thead th {\n",
       "        text-align: right;\n",
       "    }\n",
       "</style>\n",
       "<table border=\"1\" class=\"dataframe\">\n",
       "  <thead>\n",
       "    <tr style=\"text-align: right;\">\n",
       "      <th></th>\n",
       "      <th>Age</th>\n",
       "      <th>City</th>\n",
       "      <th>StateProvinceCode</th>\n",
       "      <th>PostalCode</th>\n",
       "      <th>CustomerLifetimeSpend</th>\n",
       "      <th>Customer1YearSpend</th>\n",
       "      <th>Customer3YearSpend</th>\n",
       "      <th>IsDeleted</th>\n",
       "      <th>ThreeYearVisitCount</th>\n",
       "      <th>SkiAbility</th>\n",
       "      <th>...</th>\n",
       "      <th>February</th>\n",
       "      <th>March</th>\n",
       "      <th>April</th>\n",
       "      <th>November</th>\n",
       "      <th>December</th>\n",
       "      <th>Ski_Resort1</th>\n",
       "      <th>Ski_Resort2</th>\n",
       "      <th>Ski_Resort3</th>\n",
       "      <th>Ski_Resort4</th>\n",
       "      <th>Ski_Resort5</th>\n",
       "    </tr>\n",
       "  </thead>\n",
       "  <tbody>\n",
       "  </tbody>\n",
       "</table>\n",
       "<p>0 rows × 47 columns</p>\n",
       "</div>"
      ],
      "text/plain": [
       "Empty DataFrame\n",
       "Columns: [Age, City, StateProvinceCode, PostalCode, CustomerLifetimeSpend, Customer1YearSpend, Customer3YearSpend, IsDeleted, ThreeYearVisitCount, SkiAbility, NearestMajorAirportCode, SkiLoyaltyIndexRating, IsWinterGuest, IsSummerGuest, FrontRangeMarket, CustId, Spend_Winter_2010, Spend_Winter_2011, Spend_Winter_2012, Spend_Winter_2013, Spend_Winter_2014, Spend_Winter_2015, Household1YearSpend, Household3YearSpend, HouseholdLifetimeSpend, HouseholdIncome, NumberOfHouseholdMembers, NumberOfAdults, NumberOfChildren, HouseholdCreateDate, Pass_Winter_2010, Pass_Winter_2011, Pass_Winter_2012, Pass_Winter_2013, Pass_Winter_2014, Pass_Winter_2015, January, February, March, April, November, December, Ski_Resort1, Ski_Resort2, Ski_Resort3, Ski_Resort4, Ski_Resort5]\n",
       "Index: []\n",
       "\n",
       "[0 rows x 47 columns]"
      ]
     },
     "execution_count": 29,
     "metadata": {},
     "output_type": "execute_result"
    }
   ],
   "source": [
    "#df['PostalCode'].isnull()\n",
    "df[df['PostalCode'].isnull()]"
   ]
  },
  {
   "cell_type": "code",
   "execution_count": 33,
   "metadata": {},
   "outputs": [
    {
     "data": {
      "text/html": [
       "<div>\n",
       "<style scoped>\n",
       "    .dataframe tbody tr th:only-of-type {\n",
       "        vertical-align: middle;\n",
       "    }\n",
       "\n",
       "    .dataframe tbody tr th {\n",
       "        vertical-align: top;\n",
       "    }\n",
       "\n",
       "    .dataframe thead th {\n",
       "        text-align: right;\n",
       "    }\n",
       "</style>\n",
       "<table border=\"1\" class=\"dataframe\">\n",
       "  <thead>\n",
       "    <tr style=\"text-align: right;\">\n",
       "      <th></th>\n",
       "      <th>Age</th>\n",
       "      <th>City</th>\n",
       "      <th>StateProvinceCode</th>\n",
       "      <th>PostalCode</th>\n",
       "      <th>CustomerLifetimeSpend</th>\n",
       "      <th>Customer1YearSpend</th>\n",
       "      <th>Customer3YearSpend</th>\n",
       "      <th>IsDeleted</th>\n",
       "      <th>ThreeYearVisitCount</th>\n",
       "      <th>SkiAbility</th>\n",
       "      <th>...</th>\n",
       "      <th>February</th>\n",
       "      <th>March</th>\n",
       "      <th>April</th>\n",
       "      <th>November</th>\n",
       "      <th>December</th>\n",
       "      <th>Ski_Resort1</th>\n",
       "      <th>Ski_Resort2</th>\n",
       "      <th>Ski_Resort3</th>\n",
       "      <th>Ski_Resort4</th>\n",
       "      <th>Ski_Resort5</th>\n",
       "    </tr>\n",
       "  </thead>\n",
       "  <tbody>\n",
       "    <tr>\n",
       "      <th>12792</th>\n",
       "      <td>53</td>\n",
       "      <td>NaN</td>\n",
       "      <td>CO</td>\n",
       "      <td>00008</td>\n",
       "      <td>5839.27</td>\n",
       "      <td>2251.37</td>\n",
       "      <td>4263.27</td>\n",
       "      <td>False</td>\n",
       "      <td>16.0</td>\n",
       "      <td>NaN</td>\n",
       "      <td>...</td>\n",
       "      <td>4</td>\n",
       "      <td>2</td>\n",
       "      <td>1</td>\n",
       "      <td>2</td>\n",
       "      <td>5</td>\n",
       "      <td>0</td>\n",
       "      <td>0</td>\n",
       "      <td>0</td>\n",
       "      <td>0</td>\n",
       "      <td>16</td>\n",
       "    </tr>\n",
       "  </tbody>\n",
       "</table>\n",
       "<p>1 rows × 47 columns</p>\n",
       "</div>"
      ],
      "text/plain": [
       "       Age City StateProvinceCode PostalCode  CustomerLifetimeSpend  \\\n",
       "12792   53  NaN                CO      00008                5839.27   \n",
       "\n",
       "       Customer1YearSpend  Customer3YearSpend  IsDeleted  ThreeYearVisitCount  \\\n",
       "12792             2251.37             4263.27      False                 16.0   \n",
       "\n",
       "      SkiAbility     ...      February  March April November December  \\\n",
       "12792        NaN     ...             4      2     1        2        5   \n",
       "\n",
       "       Ski_Resort1  Ski_Resort2  Ski_Resort3  Ski_Resort4  Ski_Resort5  \n",
       "12792            0            0            0            0           16  \n",
       "\n",
       "[1 rows x 47 columns]"
      ]
     },
     "execution_count": 33,
     "metadata": {},
     "output_type": "execute_result"
    }
   ],
   "source": [
    "df[df['City'].isnull()]"
   ]
  },
  {
   "cell_type": "code",
   "execution_count": 40,
   "metadata": {},
   "outputs": [
    {
     "data": {
      "text/plain": [
       "38"
      ]
     },
     "execution_count": 40,
     "metadata": {},
     "output_type": "execute_result"
    }
   ],
   "source": [
    "#[df['City'] == 'Unknown']\n",
    "np.sum(df['City'] == 'Unknown')"
   ]
  },
  {
   "cell_type": "code",
   "execution_count": 48,
   "metadata": {},
   "outputs": [],
   "source": [
    "df['IsSummerGuest'] = np.where(df.IsSummerGuest == 'True', 1,0)\n",
    "#df['D'] = np.where((df.A=='blue') & (df.B=='red') & (df.C=='square'), 'succeed')"
   ]
  },
  {
   "cell_type": "code",
   "execution_count": 54,
   "metadata": {},
   "outputs": [
    {
     "data": {
      "text/plain": [
       "0    14115\n",
       "Name: IsSummerGuest, dtype: int64"
      ]
     },
     "execution_count": 54,
     "metadata": {},
     "output_type": "execute_result"
    }
   ],
   "source": [
    "df['IsSummerGuest'].value_counts()"
   ]
  },
  {
   "cell_type": "code",
   "execution_count": 53,
   "metadata": {
    "scrolled": false
   },
   "outputs": [
    {
     "data": {
      "text/plain": [
       "True    13815\n",
       "0         300\n",
       "Name: IsWinterGuest, dtype: int64"
      ]
     },
     "execution_count": 53,
     "metadata": {},
     "output_type": "execute_result"
    }
   ],
   "source": [
    "df['IsWinterGuest'].value_counts()"
   ]
  },
  {
   "cell_type": "code",
   "execution_count": 60,
   "metadata": {},
   "outputs": [
    {
     "ename": "ValueError",
     "evalue": "either both or neither of x and y should be given",
     "output_type": "error",
     "traceback": [
      "\u001b[0;31m---------------------------------------------------------------------------\u001b[0m",
      "\u001b[0;31mValueError\u001b[0m                                Traceback (most recent call last)",
      "\u001b[0;32m<ipython-input-60-ae900f90ba9c>\u001b[0m in \u001b[0;36m<module>\u001b[0;34m()\u001b[0m\n\u001b[1;32m      1\u001b[0m \u001b[0;31m#df['IsWinterGuest'] =\u001b[0m\u001b[0;34m\u001b[0m\u001b[0;34m\u001b[0m\u001b[0m\n\u001b[0;32m----> 2\u001b[0;31m \u001b[0mnp\u001b[0m\u001b[0;34m.\u001b[0m\u001b[0mwhere\u001b[0m\u001b[0;34m(\u001b[0m\u001b[0mdf\u001b[0m\u001b[0;34m[\u001b[0m\u001b[0;34m'IsWinterGuest'\u001b[0m\u001b[0;34m]\u001b[0m \u001b[0;34m==\u001b[0m \u001b[0;34m'True'\u001b[0m\u001b[0;34m,\u001b[0m\u001b[0;36m1\u001b[0m\u001b[0;34m)\u001b[0m\u001b[0;34m\u001b[0m\u001b[0m\n\u001b[0m",
      "\u001b[0;31mValueError\u001b[0m: either both or neither of x and y should be given"
     ]
    }
   ],
   "source": [
    "#df['IsWinterGuest'] = \n",
    "np.where(df['IsWinterGuest'] == 'True',1)"
   ]
  },
  {
   "cell_type": "code",
   "execution_count": 43,
   "metadata": {},
   "outputs": [
    {
     "data": {
      "text/plain": [
       "Age                           int64\n",
       "City                         object\n",
       "StateProvinceCode            object\n",
       "PostalCode                   object\n",
       "CustomerLifetimeSpend       float64\n",
       "Customer1YearSpend          float64\n",
       "Customer3YearSpend          float64\n",
       "ThreeYearVisitCount         float64\n",
       "SkiLoyaltyIndexRating       float64\n",
       "IsWinterGuest                object\n",
       "IsSummerGuest                object\n",
       "FrontRangeMarket             object\n",
       "Spend_Winter_2010           float64\n",
       "Household1YearSpend         float64\n",
       "Household3YearSpend         float64\n",
       "HouseholdLifetimeSpend      float64\n",
       "NumberOfHouseholdMembers    float64\n",
       "NumberOfAdults              float64\n",
       "NumberOfChildren            float64\n",
       "Pass_Winter_2010              int64\n",
       "January                       int64\n",
       "February                      int64\n",
       "March                         int64\n",
       "April                         int64\n",
       "November                      int64\n",
       "December                      int64\n",
       "Ski_Resort1                   int64\n",
       "Ski_Resort2                   int64\n",
       "Ski_Resort3                   int64\n",
       "Ski_Resort4                   int64\n",
       "Ski_Resort5                   int64\n",
       "Pass_Winter_2011              int64\n",
       "dtype: object"
      ]
     },
     "execution_count": 43,
     "metadata": {},
     "output_type": "execute_result"
    }
   ],
   "source": [
    "df[X].dtypes"
   ]
  },
  {
   "cell_type": "code",
   "execution_count": 42,
   "metadata": {},
   "outputs": [],
   "source": [
    "pd.DataFrame(df[X]).to_csv('CO_2010_clean.csv', index=False)"
   ]
  },
  {
   "cell_type": "code",
   "execution_count": null,
   "metadata": {},
   "outputs": [],
   "source": []
  },
  {
   "cell_type": "markdown",
   "metadata": {},
   "source": [
    "## EDA on the 2014_2015 file"
   ]
  },
  {
   "cell_type": "code",
   "execution_count": 70,
   "metadata": {},
   "outputs": [],
   "source": [
    "df = pd.read_csv('CO_2014_2015.csv')"
   ]
  },
  {
   "cell_type": "code",
   "execution_count": 71,
   "metadata": {},
   "outputs": [
    {
     "data": {
      "text/plain": [
       "(24838, 38)"
      ]
     },
     "execution_count": 71,
     "metadata": {},
     "output_type": "execute_result"
    }
   ],
   "source": [
    "df.shape"
   ]
  },
  {
   "cell_type": "code",
   "execution_count": 72,
   "metadata": {},
   "outputs": [
    {
     "data": {
      "text/plain": [
       "Index(['Age', 'StateProvinceCode', 'CustomerLifetimeSpend',\n",
       "       'Customer1YearSpend', 'Customer3YearSpend', 'ThreeYearVisitCount',\n",
       "       'SkiLoyaltyIndexRating', 'FrontRangeMarket', 'CustId',\n",
       "       'Spend_Winter_2010', 'Spend_Winter_2011', 'Spend_Winter_2012',\n",
       "       'Spend_Winter_2013', 'Spend_Winter_2014', 'Spend_Winter_2015',\n",
       "       'Household1YearSpend', 'Household3YearSpend', 'HouseholdLifetimeSpend',\n",
       "       'NumberOfHouseholdMembers', 'NumberOfAdults', 'NumberOfChildren',\n",
       "       'Pass_Winter_2010', 'Pass_Winter_2011', 'Pass_Winter_2012',\n",
       "       'Pass_Winter_2013', 'Pass_Winter_2014', 'Pass_Winter_2015',\n",
       "       'January_15', 'February_15', 'March_15', 'April_15', 'November_14',\n",
       "       'December_14', 'Ski_Resort1_2014_2015', 'Ski_Resort2_2014_2015',\n",
       "       'Ski_Resort3_2014_2015', 'Ski_Resort4_2014_2015',\n",
       "       'Ski_Resort5_2014_2015'],\n",
       "      dtype='object')"
      ]
     },
     "execution_count": 72,
     "metadata": {},
     "output_type": "execute_result"
    }
   ],
   "source": [
    "df.columns"
   ]
  },
  {
   "cell_type": "code",
   "execution_count": 75,
   "metadata": {},
   "outputs": [],
   "source": [
    "cols = ['Age', 'CustomerLifetimeSpend',\n",
    "       'Customer1YearSpend', 'Customer3YearSpend', 'ThreeYearVisitCount',\n",
    "       'SkiLoyaltyIndexRating', 'FrontRangeMarket',\n",
    "       'Spend_Winter_2010', 'Spend_Winter_2011', 'Spend_Winter_2012',\n",
    "       'Spend_Winter_2013', 'Spend_Winter_2014', 'Spend_Winter_2015',\n",
    "       'Household1YearSpend', 'Household3YearSpend', 'HouseholdLifetimeSpend',\n",
    "       'NumberOfHouseholdMembers', 'NumberOfAdults',\n",
    "       'NumberOfChildren', 'Pass_Winter_2010', 'Pass_Winter_2011',\n",
    "       'Pass_Winter_2012', 'Pass_Winter_2013', 'Pass_Winter_2014', 'January_15', 'February_15', 'March_15',\n",
    "       'April_15', 'November_14', 'December_14', 'Ski_Resort1_2014_2015',\n",
    "       'Ski_Resort2_2014_2015', 'Ski_Resort3_2014_2015', 'Ski_Resort4_2014_2015', 'Ski_Resort5_2014_2015']"
   ]
  },
  {
   "cell_type": "code",
   "execution_count": 76,
   "metadata": {},
   "outputs": [
    {
     "data": {
      "text/plain": [
       "Age                           int64\n",
       "CustomerLifetimeSpend       float64\n",
       "Customer1YearSpend          float64\n",
       "Customer3YearSpend          float64\n",
       "ThreeYearVisitCount           int64\n",
       "SkiLoyaltyIndexRating       float64\n",
       "FrontRangeMarket              int64\n",
       "Spend_Winter_2010           float64\n",
       "Spend_Winter_2011           float64\n",
       "Spend_Winter_2012           float64\n",
       "Spend_Winter_2013           float64\n",
       "Spend_Winter_2014           float64\n",
       "Spend_Winter_2015           float64\n",
       "Household1YearSpend         float64\n",
       "Household3YearSpend         float64\n",
       "HouseholdLifetimeSpend      float64\n",
       "NumberOfHouseholdMembers      int64\n",
       "NumberOfAdults                int64\n",
       "NumberOfChildren              int64\n",
       "Pass_Winter_2010              int64\n",
       "Pass_Winter_2011              int64\n",
       "Pass_Winter_2012              int64\n",
       "Pass_Winter_2013              int64\n",
       "Pass_Winter_2014              int64\n",
       "January_15                    int64\n",
       "February_15                   int64\n",
       "March_15                      int64\n",
       "April_15                      int64\n",
       "November_14                   int64\n",
       "December_14                   int64\n",
       "Ski_Resort1_2014_2015         int64\n",
       "Ski_Resort2_2014_2015         int64\n",
       "Ski_Resort3_2014_2015         int64\n",
       "Ski_Resort4_2014_2015         int64\n",
       "Ski_Resort5_2014_2015         int64\n",
       "dtype: object"
      ]
     },
     "execution_count": 76,
     "metadata": {},
     "output_type": "execute_result"
    }
   ],
   "source": [
    "df[cols].dtypes"
   ]
  },
  {
   "cell_type": "code",
   "execution_count": 77,
   "metadata": {},
   "outputs": [
    {
     "data": {
      "text/plain": [
       "Age                         0\n",
       "CustomerLifetimeSpend       0\n",
       "Customer1YearSpend          0\n",
       "Customer3YearSpend          0\n",
       "ThreeYearVisitCount         0\n",
       "SkiLoyaltyIndexRating       0\n",
       "FrontRangeMarket            0\n",
       "Spend_Winter_2010           0\n",
       "Spend_Winter_2011           0\n",
       "Spend_Winter_2012           0\n",
       "Spend_Winter_2013           0\n",
       "Spend_Winter_2014           0\n",
       "Spend_Winter_2015           0\n",
       "Household1YearSpend         0\n",
       "Household3YearSpend         0\n",
       "HouseholdLifetimeSpend      0\n",
       "NumberOfHouseholdMembers    0\n",
       "NumberOfAdults              0\n",
       "NumberOfChildren            0\n",
       "Pass_Winter_2010            0\n",
       "Pass_Winter_2011            0\n",
       "Pass_Winter_2012            0\n",
       "Pass_Winter_2013            0\n",
       "Pass_Winter_2014            0\n",
       "January_15                  0\n",
       "February_15                 0\n",
       "March_15                    0\n",
       "April_15                    0\n",
       "November_14                 0\n",
       "December_14                 0\n",
       "Ski_Resort1_2014_2015       0\n",
       "Ski_Resort2_2014_2015       0\n",
       "Ski_Resort3_2014_2015       0\n",
       "Ski_Resort4_2014_2015       0\n",
       "Ski_Resort5_2014_2015       0\n",
       "dtype: int64"
      ]
     },
     "execution_count": 77,
     "metadata": {},
     "output_type": "execute_result"
    }
   ],
   "source": [
    "df[cols].isnull().sum()"
   ]
  },
  {
   "cell_type": "code",
   "execution_count": null,
   "metadata": {},
   "outputs": [],
   "source": []
  }
 ],
 "metadata": {
  "kernelspec": {
   "display_name": "Python 3",
   "language": "python",
   "name": "python3"
  },
  "language_info": {
   "codemirror_mode": {
    "name": "ipython",
    "version": 3
   },
   "file_extension": ".py",
   "mimetype": "text/x-python",
   "name": "python",
   "nbconvert_exporter": "python",
   "pygments_lexer": "ipython3",
   "version": "3.6.5"
  }
 },
 "nbformat": 4,
 "nbformat_minor": 2
}
