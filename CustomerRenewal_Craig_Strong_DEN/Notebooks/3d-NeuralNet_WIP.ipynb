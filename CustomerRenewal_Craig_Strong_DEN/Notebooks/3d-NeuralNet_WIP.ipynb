{
 "cells": [
  {
   "cell_type": "code",
   "execution_count": 1,
   "metadata": {},
   "outputs": [],
   "source": [
    "import matplotlib.pyplot as plt\n",
    "%matplotlib inline\n",
    "import numpy as np\n",
    "import pandas as pd\n",
    "import seaborn as sns\n",
    "\n",
    "from sklearn.model_selection import train_test_split, KFold, cross_val_score, GridSearchCV\n",
    "from sklearn.preprocessing import StandardScaler\n",
    "from sklearn.metrics import classification_report, confusion_matrix, f1_score, accuracy_score, roc_curve, auc\n",
    "\n",
    "from sklearn.linear_model import LogisticRegression\n",
    "from sklearn.tree import DecisionTreeClassifier\n",
    "from sklearn.neighbors import KNeighborsClassifier\n",
    "from sklearn.ensemble import RandomForestClassifier, GradientBoostingClassifier, BaggingClassifier\n",
    "from sklearn.pipeline import Pipeline\n",
    "from xgboost import XGBClassifier\n",
    "from sklearn.neural_network import MLPClassifier"
   ]
  },
  {
   "cell_type": "code",
   "execution_count": 2,
   "metadata": {},
   "outputs": [
    {
     "data": {
      "text/html": [
       "<div>\n",
       "<style scoped>\n",
       "    .dataframe tbody tr th:only-of-type {\n",
       "        vertical-align: middle;\n",
       "    }\n",
       "\n",
       "    .dataframe tbody tr th {\n",
       "        vertical-align: top;\n",
       "    }\n",
       "\n",
       "    .dataframe thead th {\n",
       "        text-align: right;\n",
       "    }\n",
       "</style>\n",
       "<table border=\"1\" class=\"dataframe\">\n",
       "  <thead>\n",
       "    <tr style=\"text-align: right;\">\n",
       "      <th></th>\n",
       "      <th>Age</th>\n",
       "      <th>StateProvinceCode</th>\n",
       "      <th>CustomerLifetimeSpend</th>\n",
       "      <th>Customer1YearSpend</th>\n",
       "      <th>Customer3YearSpend</th>\n",
       "      <th>ThreeYearVisitCount</th>\n",
       "      <th>SkiLoyaltyIndexRating</th>\n",
       "      <th>FrontRangeMarket</th>\n",
       "      <th>CustId</th>\n",
       "      <th>Spend_Winter_2010</th>\n",
       "      <th>...</th>\n",
       "      <th>April_15</th>\n",
       "      <th>November_14</th>\n",
       "      <th>December_14</th>\n",
       "      <th>Total_Days_14_15</th>\n",
       "      <th>Total_Days_13_14</th>\n",
       "      <th>Ski_Resort1_2014_2015</th>\n",
       "      <th>Ski_Resort2_2014_2015</th>\n",
       "      <th>Ski_Resort3_2014_2015</th>\n",
       "      <th>Ski_Resort4_2014_2015</th>\n",
       "      <th>Ski_Resort5_2014_2015</th>\n",
       "    </tr>\n",
       "  </thead>\n",
       "  <tbody>\n",
       "    <tr>\n",
       "      <th>0</th>\n",
       "      <td>42</td>\n",
       "      <td>CO</td>\n",
       "      <td>55.61</td>\n",
       "      <td>0.0</td>\n",
       "      <td>42.43</td>\n",
       "      <td>19</td>\n",
       "      <td>10.0</td>\n",
       "      <td>1</td>\n",
       "      <td>1073873</td>\n",
       "      <td>0.0</td>\n",
       "      <td>...</td>\n",
       "      <td>0</td>\n",
       "      <td>0</td>\n",
       "      <td>1</td>\n",
       "      <td>7</td>\n",
       "      <td>0</td>\n",
       "      <td>0</td>\n",
       "      <td>0</td>\n",
       "      <td>0</td>\n",
       "      <td>0</td>\n",
       "      <td>7</td>\n",
       "    </tr>\n",
       "    <tr>\n",
       "      <th>1</th>\n",
       "      <td>48</td>\n",
       "      <td>CO</td>\n",
       "      <td>139.00</td>\n",
       "      <td>0.0</td>\n",
       "      <td>139.00</td>\n",
       "      <td>24</td>\n",
       "      <td>0.0</td>\n",
       "      <td>1</td>\n",
       "      <td>1073874</td>\n",
       "      <td>0.0</td>\n",
       "      <td>...</td>\n",
       "      <td>0</td>\n",
       "      <td>0</td>\n",
       "      <td>0</td>\n",
       "      <td>2</td>\n",
       "      <td>2</td>\n",
       "      <td>0</td>\n",
       "      <td>0</td>\n",
       "      <td>2</td>\n",
       "      <td>0</td>\n",
       "      <td>0</td>\n",
       "    </tr>\n",
       "    <tr>\n",
       "      <th>2</th>\n",
       "      <td>48</td>\n",
       "      <td>CO</td>\n",
       "      <td>428.00</td>\n",
       "      <td>0.0</td>\n",
       "      <td>0.00</td>\n",
       "      <td>13</td>\n",
       "      <td>0.0</td>\n",
       "      <td>1</td>\n",
       "      <td>1073876</td>\n",
       "      <td>59.0</td>\n",
       "      <td>...</td>\n",
       "      <td>0</td>\n",
       "      <td>0</td>\n",
       "      <td>0</td>\n",
       "      <td>2</td>\n",
       "      <td>4</td>\n",
       "      <td>0</td>\n",
       "      <td>0</td>\n",
       "      <td>1</td>\n",
       "      <td>0</td>\n",
       "      <td>1</td>\n",
       "    </tr>\n",
       "    <tr>\n",
       "      <th>3</th>\n",
       "      <td>33</td>\n",
       "      <td>CO</td>\n",
       "      <td>449.00</td>\n",
       "      <td>0.0</td>\n",
       "      <td>0.00</td>\n",
       "      <td>0</td>\n",
       "      <td>0.0</td>\n",
       "      <td>0</td>\n",
       "      <td>1073942</td>\n",
       "      <td>0.0</td>\n",
       "      <td>...</td>\n",
       "      <td>0</td>\n",
       "      <td>0</td>\n",
       "      <td>0</td>\n",
       "      <td>0</td>\n",
       "      <td>0</td>\n",
       "      <td>0</td>\n",
       "      <td>0</td>\n",
       "      <td>0</td>\n",
       "      <td>0</td>\n",
       "      <td>0</td>\n",
       "    </tr>\n",
       "    <tr>\n",
       "      <th>4</th>\n",
       "      <td>24</td>\n",
       "      <td>CO</td>\n",
       "      <td>148.19</td>\n",
       "      <td>0.0</td>\n",
       "      <td>148.19</td>\n",
       "      <td>2</td>\n",
       "      <td>0.0</td>\n",
       "      <td>1</td>\n",
       "      <td>1073956</td>\n",
       "      <td>0.0</td>\n",
       "      <td>...</td>\n",
       "      <td>0</td>\n",
       "      <td>1</td>\n",
       "      <td>0</td>\n",
       "      <td>4</td>\n",
       "      <td>0</td>\n",
       "      <td>0</td>\n",
       "      <td>0</td>\n",
       "      <td>0</td>\n",
       "      <td>0</td>\n",
       "      <td>4</td>\n",
       "    </tr>\n",
       "  </tbody>\n",
       "</table>\n",
       "<p>5 rows × 45 columns</p>\n",
       "</div>"
      ],
      "text/plain": [
       "   Age StateProvinceCode  CustomerLifetimeSpend  Customer1YearSpend  \\\n",
       "0   42                CO                  55.61                 0.0   \n",
       "1   48                CO                 139.00                 0.0   \n",
       "2   48                CO                 428.00                 0.0   \n",
       "3   33                CO                 449.00                 0.0   \n",
       "4   24                CO                 148.19                 0.0   \n",
       "\n",
       "   Customer3YearSpend  ThreeYearVisitCount  SkiLoyaltyIndexRating  \\\n",
       "0               42.43                   19                   10.0   \n",
       "1              139.00                   24                    0.0   \n",
       "2                0.00                   13                    0.0   \n",
       "3                0.00                    0                    0.0   \n",
       "4              148.19                    2                    0.0   \n",
       "\n",
       "   FrontRangeMarket   CustId  Spend_Winter_2010          ...            \\\n",
       "0                 1  1073873                0.0          ...             \n",
       "1                 1  1073874                0.0          ...             \n",
       "2                 1  1073876               59.0          ...             \n",
       "3                 0  1073942                0.0          ...             \n",
       "4                 1  1073956                0.0          ...             \n",
       "\n",
       "   April_15  November_14  December_14  Total_Days_14_15  Total_Days_13_14  \\\n",
       "0         0            0            1                 7                 0   \n",
       "1         0            0            0                 2                 2   \n",
       "2         0            0            0                 2                 4   \n",
       "3         0            0            0                 0                 0   \n",
       "4         0            1            0                 4                 0   \n",
       "\n",
       "   Ski_Resort1_2014_2015  Ski_Resort2_2014_2015  Ski_Resort3_2014_2015  \\\n",
       "0                      0                      0                      0   \n",
       "1                      0                      0                      2   \n",
       "2                      0                      0                      1   \n",
       "3                      0                      0                      0   \n",
       "4                      0                      0                      0   \n",
       "\n",
       "   Ski_Resort4_2014_2015  Ski_Resort5_2014_2015  \n",
       "0                      0                      7  \n",
       "1                      0                      0  \n",
       "2                      0                      1  \n",
       "3                      0                      0  \n",
       "4                      0                      4  \n",
       "\n",
       "[5 rows x 45 columns]"
      ]
     },
     "execution_count": 2,
     "metadata": {},
     "output_type": "execute_result"
    }
   ],
   "source": [
    "df = pd.read_csv('../datafiles/CO_2014_2015.csv')\n",
    "df.head()"
   ]
  },
  {
   "cell_type": "code",
   "execution_count": 4,
   "metadata": {},
   "outputs": [],
   "source": [
    "cols = ['Age', 'CustomerLifetimeSpend',\n",
    "       #'Customer1YearSpend', \n",
    "       'Customer3YearSpend', 'ThreeYearVisitCount',\n",
    "       'SkiLoyaltyIndexRating', 'FrontRangeMarket',\n",
    "       'Spend_Winter_2010', 'Spend_Winter_2011', 'Spend_Winter_2012',\n",
    "       'Spend_Winter_2013', 'Spend_Winter_2014', #'Spend_Winter_2015',\n",
    "       #'Household1YearSpend',\n",
    "       'Household3YearSpend', 'HouseholdLifetimeSpend',\n",
    "       'NumberOfHouseholdMembers', 'NumberOfAdults',\n",
    "       'NumberOfChildren', 'Pass_Winter_2010', 'Pass_Winter_2011',\n",
    "       'Pass_Winter_2012', 'Pass_Winter_2013', 'Pass_Winter_2014',\n",
    "       'Early_Purchase_2014_2015', 'Regular_Purchase_2014_2015',\n",
    "       'Late_Purchase_2014_2015', 'Super_Late_Purchase_2014_2015', 'January_15', 'February_15', 'March_15',\n",
    "       'April_15', 'November_14', 'December_14', 'Total_Days_14_15', 'Total_Days_13_14', \n",
    "       'Ski_Resort1_2014_2015',\n",
    "       'Ski_Resort2_2014_2015', 'Ski_Resort3_2014_2015', 'Ski_Resort4_2014_2015', 'Ski_Resort5_2014_2015']"
   ]
  },
  {
   "cell_type": "code",
   "execution_count": 53,
   "metadata": {},
   "outputs": [],
   "source": [
    "cols = ['ThreeYearVisitCount', 'Customer3YearSpend', 'Age', 'Total_Days_14_15', 'Pass_Winter_2014']"
   ]
  },
  {
   "cell_type": "code",
   "execution_count": 35,
   "metadata": {},
   "outputs": [],
   "source": [
    "cols = ['Customer3YearSpend', 'Total_Days_14_15']"
   ]
  },
  {
   "cell_type": "code",
   "execution_count": 41,
   "metadata": {},
   "outputs": [],
   "source": [
    "X = df[cols]#.head(10000)"
   ]
  },
  {
   "cell_type": "code",
   "execution_count": 6,
   "metadata": {},
   "outputs": [
    {
     "data": {
      "text/plain": [
       "(139616, 45)"
      ]
     },
     "execution_count": 6,
     "metadata": {},
     "output_type": "execute_result"
    }
   ],
   "source": [
    "df.shape"
   ]
  },
  {
   "cell_type": "code",
   "execution_count": 5,
   "metadata": {},
   "outputs": [],
   "source": [
    "X = df[cols]\n",
    "y = df['Pass_Winter_2015']"
   ]
  },
  {
   "cell_type": "code",
   "execution_count": 65,
   "metadata": {},
   "outputs": [
    {
     "data": {
      "text/plain": [
       "0.4682128122851249"
      ]
     },
     "execution_count": 65,
     "metadata": {},
     "output_type": "execute_result"
    }
   ],
   "source": [
    "y.mean()"
   ]
  },
  {
   "cell_type": "code",
   "execution_count": 7,
   "metadata": {},
   "outputs": [],
   "source": [
    "# TTS\n",
    "X_train, X_test, y_train, y_test = train_test_split(X, y, random_state =42)"
   ]
  },
  {
   "cell_type": "code",
   "execution_count": 8,
   "metadata": {},
   "outputs": [
    {
     "data": {
      "text/plain": [
       "0.46732943693177476"
      ]
     },
     "execution_count": 8,
     "metadata": {},
     "output_type": "execute_result"
    }
   ],
   "source": [
    "y_train.mean()"
   ]
  },
  {
   "cell_type": "code",
   "execution_count": 9,
   "metadata": {},
   "outputs": [
    {
     "data": {
      "text/plain": [
       "0.47086293834517534"
      ]
     },
     "execution_count": 9,
     "metadata": {},
     "output_type": "execute_result"
    }
   ],
   "source": [
    "y_test.mean()"
   ]
  },
  {
   "cell_type": "code",
   "execution_count": 10,
   "metadata": {},
   "outputs": [],
   "source": [
    "ss = StandardScaler()\n",
    "\n",
    "# Fit Scaler on X_train data from TTS\n",
    "ss.fit(X_train)\n",
    "# Transform X_Train data from TTS\n",
    "X_train_s = ss.transform(X_train)\n",
    "#Transform X_test from TTS\n",
    "X_test_s = ss.transform(X_test)"
   ]
  },
  {
   "cell_type": "code",
   "execution_count": null,
   "metadata": {},
   "outputs": [],
   "source": []
  },
  {
   "cell_type": "code",
   "execution_count": 13,
   "metadata": {},
   "outputs": [
    {
     "name": "stderr",
     "output_type": "stream",
     "text": [
      "/Users/craigstrong/anaconda3/lib/python3.6/site-packages/h5py/__init__.py:36: FutureWarning: Conversion of the second argument of issubdtype from `float` to `np.floating` is deprecated. In future, it will be treated as `np.float64 == np.dtype(float).type`.\n",
      "  from ._conv import register_converters as _register_converters\n",
      "Using TensorFlow backend.\n"
     ]
    },
    {
     "name": "stdout",
     "output_type": "stream",
     "text": [
      "Couldn't import dot_parser, loading of dot files will not be possible.\n"
     ]
    }
   ],
   "source": [
    "from keras.models import Sequential\n",
    "from keras.layers import Dense\n",
    "from keras.utils import to_categorical"
   ]
  },
  {
   "cell_type": "markdown",
   "metadata": {},
   "source": [
    "## Keras Model"
   ]
  },
  {
   "cell_type": "code",
   "execution_count": 18,
   "metadata": {},
   "outputs": [],
   "source": [
    "model = Sequential()\n",
    "model.add(Dense(20, activation='relu', input_dim=X_train.shape[1]))\n",
    "#model.add(Dense(10, activation='relu')) # First step in tuning by adding hidden layers to the NN\n",
    "\n",
    "# For all regression problems, the output layer\n",
    "# is 1 neuron\n",
    "# with no activation function\n",
    "model.add(Dense(1, activation='sigmoid')) # output layer"
   ]
  },
  {
   "cell_type": "markdown",
   "metadata": {},
   "source": [
    "## Compiling Model"
   ]
  },
  {
   "cell_type": "code",
   "execution_count": 21,
   "metadata": {},
   "outputs": [],
   "source": [
    "model.compile(optimizer='adam',\n",
    "             loss='binary_crossentropy',\n",
    "             metrics=['accuracy'])"
   ]
  },
  {
   "cell_type": "markdown",
   "metadata": {},
   "source": [
    "## Fitting Model"
   ]
  },
  {
   "cell_type": "code",
   "execution_count": 30,
   "metadata": {},
   "outputs": [
    {
     "name": "stdout",
     "output_type": "stream",
     "text": [
      "Train on 104712 samples, validate on 34904 samples\n",
      "Epoch 1/100\n",
      "104712/104712 [==============================] - 8s 78us/step - loss: 0.3953 - acc: 0.8211 - val_loss: 0.4006 - val_acc: 0.8182\n",
      "Epoch 2/100\n",
      "104712/104712 [==============================] - 6s 61us/step - loss: 0.3951 - acc: 0.8216 - val_loss: 0.4024 - val_acc: 0.8176\n",
      "Epoch 3/100\n",
      "104712/104712 [==============================] - 7s 64us/step - loss: 0.3948 - acc: 0.8212 - val_loss: 0.4030 - val_acc: 0.8149\n",
      "Epoch 4/100\n",
      "104712/104712 [==============================] - 7s 65us/step - loss: 0.3944 - acc: 0.8205 - val_loss: 0.4021 - val_acc: 0.8174\n",
      "Epoch 5/100\n",
      "104712/104712 [==============================] - 7s 65us/step - loss: 0.3948 - acc: 0.8214 - val_loss: 0.4015 - val_acc: 0.8179\n",
      "Epoch 6/100\n",
      "104712/104712 [==============================] - 7s 66us/step - loss: 0.3940 - acc: 0.8214 - val_loss: 0.4003 - val_acc: 0.8180\n",
      "Epoch 7/100\n",
      "104712/104712 [==============================] - 7s 70us/step - loss: 0.3933 - acc: 0.8219 - val_loss: 0.3998 - val_acc: 0.8188\n",
      "Epoch 8/100\n",
      "104712/104712 [==============================] - 7s 67us/step - loss: 0.3930 - acc: 0.8216 - val_loss: 0.4022 - val_acc: 0.8170\n",
      "Epoch 9/100\n",
      "104712/104712 [==============================] - 7s 66us/step - loss: 0.3931 - acc: 0.8217 - val_loss: 0.4010 - val_acc: 0.8181\n",
      "Epoch 10/100\n",
      "104712/104712 [==============================] - 7s 68us/step - loss: 0.3926 - acc: 0.8218 - val_loss: 0.4009 - val_acc: 0.8196\n",
      "Epoch 11/100\n",
      "104712/104712 [==============================] - 7s 65us/step - loss: 0.3920 - acc: 0.8224 - val_loss: 0.4042 - val_acc: 0.8152\n",
      "Epoch 12/100\n",
      "104712/104712 [==============================] - 7s 68us/step - loss: 0.3920 - acc: 0.8222 - val_loss: 0.3992 - val_acc: 0.8179\n",
      "Epoch 13/100\n",
      "104712/104712 [==============================] - 7s 67us/step - loss: 0.3918 - acc: 0.8227 - val_loss: 0.3984 - val_acc: 0.8196\n",
      "Epoch 14/100\n",
      "104712/104712 [==============================] - 7s 66us/step - loss: 0.3911 - acc: 0.8219 - val_loss: 0.3979 - val_acc: 0.8196\n",
      "Epoch 15/100\n",
      "104712/104712 [==============================] - 7s 64us/step - loss: 0.3902 - acc: 0.8234 - val_loss: 0.3984 - val_acc: 0.8180\n",
      "Epoch 16/100\n",
      "104712/104712 [==============================] - 6s 61us/step - loss: 0.3899 - acc: 0.8234 - val_loss: 0.3991 - val_acc: 0.8196\n",
      "Epoch 17/100\n",
      "104712/104712 [==============================] - 7s 64us/step - loss: 0.3895 - acc: 0.8238 - val_loss: 0.3967 - val_acc: 0.8199\n",
      "Epoch 18/100\n",
      "104712/104712 [==============================] - 6s 61us/step - loss: 0.3892 - acc: 0.8233 - val_loss: 0.3968 - val_acc: 0.8205\n",
      "Epoch 19/100\n",
      "104712/104712 [==============================] - 6s 59us/step - loss: 0.3882 - acc: 0.8236 - val_loss: 0.3964 - val_acc: 0.8200\n",
      "Epoch 20/100\n",
      "104712/104712 [==============================] - 7s 63us/step - loss: 0.3881 - acc: 0.8236 - val_loss: 0.3950 - val_acc: 0.8208\n",
      "Epoch 21/100\n",
      "104712/104712 [==============================] - 6s 62us/step - loss: 0.3873 - acc: 0.8239 - val_loss: 0.3979 - val_acc: 0.8199\n",
      "Epoch 22/100\n",
      "104712/104712 [==============================] - 7s 63us/step - loss: 0.3875 - acc: 0.8244 - val_loss: 0.3957 - val_acc: 0.8212\n",
      "Epoch 23/100\n",
      "104712/104712 [==============================] - 6s 62us/step - loss: 0.3865 - acc: 0.8236 - val_loss: 0.3979 - val_acc: 0.8201\n",
      "Epoch 24/100\n",
      "104712/104712 [==============================] - 7s 64us/step - loss: 0.3865 - acc: 0.8245 - val_loss: 0.3947 - val_acc: 0.8225\n",
      "Epoch 25/100\n",
      "104712/104712 [==============================] - 7s 66us/step - loss: 0.3856 - acc: 0.8248 - val_loss: 0.3939 - val_acc: 0.8220\n",
      "Epoch 26/100\n",
      "104712/104712 [==============================] - 7s 64us/step - loss: 0.3854 - acc: 0.8247 - val_loss: 0.3936 - val_acc: 0.8223\n",
      "Epoch 27/100\n",
      "104712/104712 [==============================] - 7s 66us/step - loss: 0.3851 - acc: 0.8250 - val_loss: 0.3939 - val_acc: 0.8222\n",
      "Epoch 28/100\n",
      "104712/104712 [==============================] - 7s 66us/step - loss: 0.3850 - acc: 0.8253 - val_loss: 0.3930 - val_acc: 0.8230\n",
      "Epoch 29/100\n",
      "104712/104712 [==============================] - 8s 77us/step - loss: 0.3847 - acc: 0.8247 - val_loss: 0.3930 - val_acc: 0.8223\n",
      "Epoch 30/100\n",
      "104712/104712 [==============================] - 8s 74us/step - loss: 0.3847 - acc: 0.8254 - val_loss: 0.3929 - val_acc: 0.8228\n",
      "Epoch 31/100\n",
      "104712/104712 [==============================] - 8s 81us/step - loss: 0.3844 - acc: 0.8252 - val_loss: 0.3945 - val_acc: 0.8211\n",
      "Epoch 32/100\n",
      "104712/104712 [==============================] - 8s 74us/step - loss: 0.3845 - acc: 0.8250 - val_loss: 0.3923 - val_acc: 0.8231\n",
      "Epoch 33/100\n",
      "104712/104712 [==============================] - 7s 64us/step - loss: 0.3839 - acc: 0.8250 - val_loss: 0.3966 - val_acc: 0.8197\n",
      "Epoch 34/100\n",
      "104712/104712 [==============================] - 7s 64us/step - loss: 0.3838 - acc: 0.8252 - val_loss: 0.3926 - val_acc: 0.8238\n",
      "Epoch 35/100\n",
      "104712/104712 [==============================] - 7s 63us/step - loss: 0.3838 - acc: 0.8252 - val_loss: 0.3958 - val_acc: 0.8207\n",
      "Epoch 36/100\n",
      "104712/104712 [==============================] - 7s 63us/step - loss: 0.3838 - acc: 0.8254 - val_loss: 0.3945 - val_acc: 0.8225\n",
      "Epoch 37/100\n",
      "104712/104712 [==============================] - 7s 66us/step - loss: 0.3837 - acc: 0.8254 - val_loss: 0.3925 - val_acc: 0.8225\n",
      "Epoch 38/100\n",
      "104712/104712 [==============================] - 9s 89us/step - loss: 0.3834 - acc: 0.8255 - val_loss: 0.3923 - val_acc: 0.8223: 1\n",
      "Epoch 39/100\n",
      "104712/104712 [==============================] - 8s 76us/step - loss: 0.3832 - acc: 0.8259 - val_loss: 0.3914 - val_acc: 0.8261\n",
      "Epoch 40/100\n",
      "104712/104712 [==============================] - 7s 66us/step - loss: 0.3833 - acc: 0.8262 - val_loss: 0.3923 - val_acc: 0.8219\n",
      "Epoch 41/100\n",
      "104712/104712 [==============================] - 7s 66us/step - loss: 0.3826 - acc: 0.8263 - val_loss: 0.3921 - val_acc: 0.8234\n",
      "Epoch 42/100\n",
      "104712/104712 [==============================] - 7s 64us/step - loss: 0.3831 - acc: 0.8253 - val_loss: 0.3919 - val_acc: 0.8246\n",
      "Epoch 43/100\n",
      "104712/104712 [==============================] - 6s 56us/step - loss: 0.3826 - acc: 0.8254 - val_loss: 0.3917 - val_acc: 0.8240\n",
      "Epoch 44/100\n",
      "104712/104712 [==============================] - 6s 57us/step - loss: 0.3824 - acc: 0.8267 - val_loss: 0.3923 - val_acc: 0.8230\n",
      "Epoch 45/100\n",
      "104712/104712 [==============================] - 6s 56us/step - loss: 0.3824 - acc: 0.8264 - val_loss: 0.3910 - val_acc: 0.8227\n",
      "Epoch 46/100\n",
      "104712/104712 [==============================] - 6s 56us/step - loss: 0.3822 - acc: 0.8264 - val_loss: 0.3935 - val_acc: 0.8231\n",
      "Epoch 47/100\n",
      "104712/104712 [==============================] - 6s 58us/step - loss: 0.3824 - acc: 0.8267 - val_loss: 0.3918 - val_acc: 0.8233\n",
      "Epoch 48/100\n",
      "104712/104712 [==============================] - 7s 69us/step - loss: 0.3821 - acc: 0.8264 - val_loss: 0.3927 - val_acc: 0.8250\n",
      "Epoch 49/100\n",
      "104712/104712 [==============================] - 7s 67us/step - loss: 0.3819 - acc: 0.8264 - val_loss: 0.3922 - val_acc: 0.8222\n",
      "Epoch 50/100\n",
      "104712/104712 [==============================] - 7s 63us/step - loss: 0.3823 - acc: 0.8271 - val_loss: 0.3916 - val_acc: 0.8238\n",
      "Epoch 51/100\n",
      "104712/104712 [==============================] - 7s 66us/step - loss: 0.3820 - acc: 0.8264 - val_loss: 0.3961 - val_acc: 0.8213\n",
      "Epoch 52/100\n",
      "104712/104712 [==============================] - 6s 54us/step - loss: 0.3817 - acc: 0.8272 - val_loss: 0.3952 - val_acc: 0.8219\n",
      "Epoch 53/100\n",
      "104712/104712 [==============================] - 6s 54us/step - loss: 0.3820 - acc: 0.8270 - val_loss: 0.3917 - val_acc: 0.8254\n",
      "Epoch 54/100\n",
      "104712/104712 [==============================] - 5s 52us/step - loss: 0.3820 - acc: 0.8264 - val_loss: 0.3963 - val_acc: 0.8201\n",
      "Epoch 55/100\n",
      "104712/104712 [==============================] - 6s 58us/step - loss: 0.3819 - acc: 0.8271 - val_loss: 0.3916 - val_acc: 0.8250\n",
      "Epoch 56/100\n",
      "104712/104712 [==============================] - 6s 58us/step - loss: 0.3819 - acc: 0.8267 - val_loss: 0.3920 - val_acc: 0.8243\n",
      "Epoch 57/100\n",
      "104712/104712 [==============================] - 6s 54us/step - loss: 0.3816 - acc: 0.8272 - val_loss: 0.3929 - val_acc: 0.8242\n",
      "Epoch 58/100\n",
      "104712/104712 [==============================] - 6s 57us/step - loss: 0.3813 - acc: 0.8275 - val_loss: 0.3932 - val_acc: 0.8229\n"
     ]
    },
    {
     "name": "stdout",
     "output_type": "stream",
     "text": [
      "Epoch 59/100\n",
      "104712/104712 [==============================] - 6s 58us/step - loss: 0.3817 - acc: 0.8273 - val_loss: 0.3910 - val_acc: 0.8249\n",
      "Epoch 60/100\n",
      "104712/104712 [==============================] - 6s 61us/step - loss: 0.3815 - acc: 0.8271 - val_loss: 0.3913 - val_acc: 0.8243\n",
      "Epoch 61/100\n",
      "104712/104712 [==============================] - 6s 56us/step - loss: 0.3814 - acc: 0.8270 - val_loss: 0.3920 - val_acc: 0.8253\n",
      "Epoch 62/100\n",
      "104712/104712 [==============================] - 5s 52us/step - loss: 0.3815 - acc: 0.8272 - val_loss: 0.3909 - val_acc: 0.8260\n",
      "Epoch 63/100\n",
      "104712/104712 [==============================] - 6s 60us/step - loss: 0.3812 - acc: 0.8278 - val_loss: 0.3921 - val_acc: 0.8236\n",
      "Epoch 64/100\n",
      "104712/104712 [==============================] - 7s 66us/step - loss: 0.3816 - acc: 0.8271 - val_loss: 0.3925 - val_acc: 0.8246\n",
      "Epoch 65/100\n",
      "104712/104712 [==============================] - 7s 64us/step - loss: 0.3812 - acc: 0.8269 - val_loss: 0.3942 - val_acc: 0.8238\n",
      "Epoch 66/100\n",
      "104712/104712 [==============================] - 7s 66us/step - loss: 0.3814 - acc: 0.8274 - val_loss: 0.3905 - val_acc: 0.8242\n",
      "Epoch 67/100\n",
      "104712/104712 [==============================] - 6s 55us/step - loss: 0.3811 - acc: 0.8272 - val_loss: 0.3915 - val_acc: 0.8255\n",
      "Epoch 68/100\n",
      "104712/104712 [==============================] - 6s 58us/step - loss: 0.3812 - acc: 0.8270 - val_loss: 0.3927 - val_acc: 0.8223\n",
      "Epoch 69/100\n",
      "104712/104712 [==============================] - 7s 63us/step - loss: 0.3811 - acc: 0.8272 - val_loss: 0.3927 - val_acc: 0.8235\n",
      "Epoch 70/100\n",
      "104712/104712 [==============================] - 7s 65us/step - loss: 0.3812 - acc: 0.8275 - val_loss: 0.3940 - val_acc: 0.8224\n",
      "Epoch 71/100\n",
      "104712/104712 [==============================] - 6s 55us/step - loss: 0.3812 - acc: 0.8268 - val_loss: 0.3919 - val_acc: 0.8257\n",
      "Epoch 72/100\n",
      "104712/104712 [==============================] - 7s 71us/step - loss: 0.3805 - acc: 0.8278 - val_loss: 0.3930 - val_acc: 0.8233\n",
      "Epoch 73/100\n",
      "104712/104712 [==============================] - 6s 62us/step - loss: 0.3812 - acc: 0.8273 - val_loss: 0.3919 - val_acc: 0.8241\n",
      "Epoch 74/100\n",
      "104712/104712 [==============================] - 7s 66us/step - loss: 0.3810 - acc: 0.8270 - val_loss: 0.3917 - val_acc: 0.8251\n",
      "Epoch 75/100\n",
      "104712/104712 [==============================] - 7s 70us/step - loss: 0.3807 - acc: 0.8266 - val_loss: 0.3954 - val_acc: 0.8226\n",
      "Epoch 76/100\n",
      "104712/104712 [==============================] - 7s 64us/step - loss: 0.3808 - acc: 0.8275 - val_loss: 0.3917 - val_acc: 0.8241\n",
      "Epoch 77/100\n",
      "104712/104712 [==============================] - 9s 86us/step - loss: 0.3808 - acc: 0.8272 - val_loss: 0.3918 - val_acc: 0.8245\n",
      "Epoch 78/100\n",
      "104712/104712 [==============================] - 10s 98us/step - loss: 0.3810 - acc: 0.8275 - val_loss: 0.3907 - val_acc: 0.8246\n",
      "Epoch 79/100\n",
      "104712/104712 [==============================] - 10s 99us/step - loss: 0.3810 - acc: 0.8275 - val_loss: 0.3908 - val_acc: 0.8245\n",
      "Epoch 80/100\n",
      "104712/104712 [==============================] - 10s 98us/step - loss: 0.3810 - acc: 0.8276 - val_loss: 0.3916 - val_acc: 0.8266\n",
      "Epoch 81/100\n",
      "104712/104712 [==============================] - 12s 114us/step - loss: 0.3807 - acc: 0.8273 - val_loss: 0.3918 - val_acc: 0.8243\n",
      "Epoch 82/100\n",
      "104712/104712 [==============================] - 10s 92us/step - loss: 0.3807 - acc: 0.8274 - val_loss: 0.3911 - val_acc: 0.8253\n",
      "Epoch 83/100\n",
      "104712/104712 [==============================] - 9s 87us/step - loss: 0.3806 - acc: 0.8274 - val_loss: 0.3909 - val_acc: 0.8259\n",
      "Epoch 84/100\n",
      "104712/104712 [==============================] - 9s 83us/step - loss: 0.3808 - acc: 0.8274 - val_loss: 0.3922 - val_acc: 0.8251\n",
      "Epoch 85/100\n",
      "104712/104712 [==============================] - 9s 82us/step - loss: 0.3806 - acc: 0.8272 - val_loss: 0.3941 - val_acc: 0.8245\n",
      "Epoch 86/100\n",
      "104712/104712 [==============================] - 8s 80us/step - loss: 0.3809 - acc: 0.8268 - val_loss: 0.3911 - val_acc: 0.8225\n",
      "Epoch 87/100\n",
      "104712/104712 [==============================] - 9s 85us/step - loss: 0.3805 - acc: 0.8266 - val_loss: 0.3918 - val_acc: 0.8253\n",
      "Epoch 88/100\n",
      "104712/104712 [==============================] - 8s 80us/step - loss: 0.3807 - acc: 0.8272 - val_loss: 0.3915 - val_acc: 0.8263\n",
      "Epoch 89/100\n",
      "104712/104712 [==============================] - 9s 86us/step - loss: 0.3809 - acc: 0.8274 - val_loss: 0.3916 - val_acc: 0.8243\n",
      "Epoch 90/100\n",
      "104712/104712 [==============================] - 9s 83us/step - loss: 0.3804 - acc: 0.8274 - val_loss: 0.3914 - val_acc: 0.8255\n",
      "Epoch 91/100\n",
      "104712/104712 [==============================] - 9s 83us/step - loss: 0.3806 - acc: 0.8275 - val_loss: 0.3920 - val_acc: 0.8235\n",
      "Epoch 92/100\n",
      "104712/104712 [==============================] - 9s 84us/step - loss: 0.3803 - acc: 0.8276 - val_loss: 0.3915 - val_acc: 0.8243\n",
      "Epoch 93/100\n",
      "104712/104712 [==============================] - 9s 85us/step - loss: 0.3805 - acc: 0.8270 - val_loss: 0.3922 - val_acc: 0.8233\n",
      "Epoch 94/100\n",
      "104712/104712 [==============================] - 8s 74us/step - loss: 0.3806 - acc: 0.8271 - val_loss: 0.3917 - val_acc: 0.8249\n",
      "Epoch 95/100\n",
      "104712/104712 [==============================] - 7s 66us/step - loss: 0.3804 - acc: 0.8275 - val_loss: 0.3914 - val_acc: 0.8248\n",
      "Epoch 96/100\n",
      "104712/104712 [==============================] - 7s 64us/step - loss: 0.3806 - acc: 0.8277 - val_loss: 0.3914 - val_acc: 0.8256\n",
      "Epoch 97/100\n",
      "104712/104712 [==============================] - 7s 64us/step - loss: 0.3803 - acc: 0.8280 - val_loss: 0.3918 - val_acc: 0.8245\n",
      "Epoch 98/100\n",
      "104712/104712 [==============================] - 7s 67us/step - loss: 0.3804 - acc: 0.8280 - val_loss: 0.3910 - val_acc: 0.8239\n",
      "Epoch 99/100\n",
      "104712/104712 [==============================] - 7s 71us/step - loss: 0.3798 - acc: 0.8278 - val_loss: 0.3933 - val_acc: 0.8232\n",
      "Epoch 100/100\n",
      "104712/104712 [==============================] - 7s 65us/step - loss: 0.3804 - acc: 0.8280 - val_loss: 0.3920 - val_acc: 0.8239\n"
     ]
    }
   ],
   "source": [
    "results = model.fit(X_train_s, y_train, \n",
    "          epochs=100, \n",
    "          validation_data=(X_test_s, y_test))"
   ]
  },
  {
   "cell_type": "markdown",
   "metadata": {},
   "source": [
    "## Making Predictions"
   ]
  },
  {
   "cell_type": "code",
   "execution_count": 35,
   "metadata": {},
   "outputs": [],
   "source": [
    "predictions = model.predict(X_test_s)\n",
    "predictions = (predictions > 0.5)"
   ]
  },
  {
   "cell_type": "code",
   "execution_count": 36,
   "metadata": {},
   "outputs": [
    {
     "name": "stdout",
     "output_type": "stream",
     "text": [
      "             precision    recall  f1-score   support\n",
      "\n",
      "          0       0.84      0.83      0.83     18469\n",
      "          1       0.81      0.82      0.81     16435\n",
      "\n",
      "avg / total       0.82      0.82      0.82     34904\n",
      "\n"
     ]
    },
    {
     "data": {
      "text/plain": [
       "Text(0.5,15,'Predicted label')"
      ]
     },
     "execution_count": 36,
     "metadata": {},
     "output_type": "execute_result"
    },
    {
     "data": {
      "image/png": "[encoded data removed]",
      "text/plain": [
       "<Figure size 432x288 with 2 Axes>"
      ]
     },
     "metadata": {},
     "output_type": "display_data"
    }
   ],
   "source": [
    "confusion_matrix_NN = confusion_matrix(y_test, predictions)\n",
    "print(classification_report(y_test, predictions))\n",
    " \n",
    "confusion_matrix_df = pd.DataFrame(confusion_matrix_NN, ('No Renew', 'Renew'), ('No Renew', 'Renew'))\n",
    "heatmap = sns.heatmap(confusion_matrix_df, annot=True, annot_kws={\"size\": 20}, fmt=\"d\")\n",
    "heatmap.yaxis.set_ticklabels(heatmap.yaxis.get_ticklabels(), rotation=0, ha='right', fontsize = 14)\n",
    "heatmap.xaxis.set_ticklabels(heatmap.xaxis.get_ticklabels(), rotation=45, ha='right', fontsize = 14)\n",
    "plt.ylabel('True label', fontsize = 14)\n",
    "plt.xlabel('Predicted label', fontsize = 14)"
   ]
  },
  {
   "cell_type": "code",
   "execution_count": null,
   "metadata": {},
   "outputs": [],
   "source": []
  },
  {
   "cell_type": "markdown",
   "metadata": {},
   "source": [
    "## Plot Losses"
   ]
  },
  {
   "cell_type": "code",
   "execution_count": 31,
   "metadata": {},
   "outputs": [
    {
     "data": {
      "text/plain": [
       "<matplotlib.legend.Legend at 0x1a2a59b8d0>"
      ]
     },
     "execution_count": 31,
     "metadata": {},
     "output_type": "execute_result"
    },
    {
     "data": {
      "image/png": "[encoded data removed]",
      "text/plain": [
       "<Figure size 432x288 with 1 Axes>"
      ]
     },
     "metadata": {},
     "output_type": "display_data"
    }
   ],
   "source": [
    "plt.plot(results.history['val_loss'], label='Test Loss')\n",
    "plt.plot(results.history['loss'], label='Train Loss')\n",
    "plt.legend()"
   ]
  },
  {
   "cell_type": "code",
   "execution_count": null,
   "metadata": {},
   "outputs": [],
   "source": []
  },
  {
   "cell_type": "code",
   "execution_count": 55,
   "metadata": {},
   "outputs": [],
   "source": [
    "import numpy as np\n",
    "import matplotlib.pyplot as plt\n",
    "from matplotlib.colors import ListedColormap\n",
    "from sklearn.model_selection import train_test_split\n",
    "from sklearn.preprocessing import StandardScaler\n",
    "from sklearn.datasets import make_moons, make_circles, make_classification\n",
    "from sklearn.neural_network import MLPClassifier\n",
    "from sklearn.neighbors import KNeighborsClassifier\n",
    "from sklearn.svm import SVC\n",
    "from sklearn.gaussian_process import GaussianProcessClassifier\n",
    "from sklearn.gaussian_process.kernels import RBF\n",
    "from sklearn.tree import DecisionTreeClassifier\n",
    "from sklearn.ensemble import RandomForestClassifier, AdaBoostClassifier\n",
    "from sklearn.naive_bayes import GaussianNB\n",
    "from sklearn.discriminant_analysis import QuadraticDiscriminantAnalysis"
   ]
  },
  {
   "cell_type": "code",
   "execution_count": 56,
   "metadata": {},
   "outputs": [],
   "source": [
    "h = .02  # step size in the mesh\n",
    "\n",
    "names = [\"Nearest Neighbors\", \"Linear SVM\", \"RBF SVM\", \"Gaussian Process\",\n",
    "         \"Decision Tree\", \"Random Forest\", \"Neural Net\", \"AdaBoost\",\n",
    "         \"Naive Bayes\", \"QDA\"]\n",
    "\n",
    "classifiers = [\n",
    "    KNeighborsClassifier(3),\n",
    "    SVC(kernel=\"linear\", C=0.025),\n",
    "    SVC(gamma=2, C=1),\n",
    "    GaussianProcessClassifier(1.0 * RBF(1.0)),\n",
    "    DecisionTreeClassifier(max_depth=5),\n",
    "    RandomForestClassifier(max_depth=5, n_estimators=10, max_features=1),\n",
    "    MLPClassifier(alpha=1),\n",
    "    AdaBoostClassifier(),\n",
    "    GaussianNB(),\n",
    "    QuadraticDiscriminantAnalysis()]\n",
    "\n",
    "X, y = make_classification(n_features=2, n_redundant=0, n_informative=2,\n",
    "                           random_state=1, n_clusters_per_class=1)\n",
    "rng = np.random.RandomState(2)\n",
    "X += 2 * rng.uniform(size=X.shape)\n",
    "linearly_separable = (X, y)\n",
    "\n",
    "datasets = [make_moons(noise=0.3, random_state=0),\n",
    "            make_circles(noise=0.2, factor=0.5, random_state=1),\n",
    "            linearly_separable\n",
    "            ]"
   ]
  },
  {
   "cell_type": "code",
   "execution_count": null,
   "metadata": {},
   "outputs": [],
   "source": []
  },
  {
   "cell_type": "code",
   "execution_count": null,
   "metadata": {},
   "outputs": [],
   "source": []
  },
  {
   "cell_type": "code",
   "execution_count": null,
   "metadata": {},
   "outputs": [],
   "source": [
    " figure = plt.figure(figsize=(27, 9))\n",
    "i = 1\n",
    "# iterate over datasets\n",
    "for ds_cnt, ds in enumerate(datasets):\n",
    "    # preprocess dataset, split into training and test part\n",
    "    X, y = ds\n",
    "    X = StandardScaler().fit_transform(X)\n",
    "    X_train, X_test, y_train, y_test = \\\n",
    "        train_test_split(X, y, test_size=.4, random_state=42)\n",
    "\n",
    "    x_min, x_max = X[:, 0].min() - .5, X[:, 0].max() + .5\n",
    "    y_min, y_max = X[:, 1].min() - .5, X[:, 1].max() + .5\n",
    "    xx, yy = np.meshgrid(np.arange(x_min, x_max, h),\n",
    "                         np.arange(y_min, y_max, h))\n",
    "\n",
    "    # just plot the dataset first\n",
    "    cm = plt.cm.RdBu\n",
    "    cm_bright = ListedColormap(['#FF0000', '#0000FF'])\n",
    "    ax = plt.subplot(len(datasets), len(classifiers) + 1, i)\n",
    "    if ds_cnt == 0:\n",
    "        ax.set_title(\"Input data\")\n",
    "    # Plot the training points\n",
    "    ax.scatter(X_train[:, 0], X_train[:, 1], c=y_train, cmap=cm_bright,\n",
    "               edgecolors='k')\n",
    "    # Plot the testing points\n",
    "    ax.scatter(X_test[:, 0], X_test[:, 1], c=y_test, cmap=cm_bright, alpha=0.6,\n",
    "               edgecolors='k')\n",
    "    ax.set_xlim(xx.min(), xx.max())\n",
    "    ax.set_ylim(yy.min(), yy.max())\n",
    "    ax.set_xticks(())\n",
    "    ax.set_yticks(())\n",
    "    i += 1\n",
    "\n",
    "    # iterate over classifiers\n",
    "    for name, clf in zip(names, classifiers):\n",
    "        ax = plt.subplot(len(datasets), len(classifiers) + 1, i)\n",
    "        clf.fit(X_train, y_train)\n",
    "        score = clf.score(X_test, y_test)\n",
    "\n",
    "        # Plot the decision boundary. For that, we will assign a color to each\n",
    "        # point in the mesh [x_min, x_max]x[y_min, y_max].\n",
    "        if hasattr(clf, \"decision_function\"):\n",
    "            Z = clf.decision_function(np.c_[xx.ravel(), yy.ravel()])\n",
    "        else:\n",
    "            Z = clf.predict_proba(np.c_[xx.ravel(), yy.ravel()])[:, 1]\n",
    "\n",
    "        # Put the result into a color plot\n",
    "        Z = Z.reshape(xx.shape)\n",
    "        ax.contourf(xx, yy, Z, cmap=cm, alpha=.8)\n",
    "\n",
    "        # Plot the training points\n",
    "        ax.scatter(X_train[:, 0], X_train[:, 1], c=y_train, cmap=cm_bright,\n",
    "                   edgecolors='k')\n",
    "        # Plot the testing points\n",
    "        ax.scatter(X_test[:, 0], X_test[:, 1], c=y_test, cmap=cm_bright,\n",
    "                   edgecolors='k', alpha=0.6)\n",
    "\n",
    "        ax.set_xlim(xx.min(), xx.max())\n",
    "        ax.set_ylim(yy.min(), yy.max())\n",
    "        ax.set_xticks(())\n",
    "        ax.set_yticks(())\n",
    "        if ds_cnt == 0:\n",
    "            ax.set_title(name)\n",
    "        ax.text(xx.max() - .3, yy.min() + .3, ('%.2f' % score).lstrip('0'),\n",
    "                size=15, horizontalalignment='right')\n",
    "        i += 1\n",
    "\n",
    "plt.tight_layout()\n",
    "plt.show()"
   ]
  },
  {
   "cell_type": "code",
   "execution_count": null,
   "metadata": {},
   "outputs": [],
   "source": []
  },
  {
   "cell_type": "code",
   "execution_count": null,
   "metadata": {},
   "outputs": [],
   "source": []
  },
  {
   "cell_type": "code",
   "execution_count": null,
   "metadata": {},
   "outputs": [],
   "source": []
  },
  {
   "cell_type": "code",
   "execution_count": null,
   "metadata": {},
   "outputs": [],
   "source": []
  }
 ],
 "metadata": {
  "kernelspec": {
   "display_name": "Python 3",
   "language": "python",
   "name": "python3"
  },
  "language_info": {
   "codemirror_mode": {
    "name": "ipython",
    "version": 3
   },
   "file_extension": ".py",
   "mimetype": "text/x-python",
   "name": "python",
   "nbconvert_exporter": "python",
   "pygments_lexer": "ipython3",
   "version": "3.6.5"
  }
 },
 "nbformat": 4,
 "nbformat_minor": 2
}
