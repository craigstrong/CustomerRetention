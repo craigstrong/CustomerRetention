{
 "cells": [
  {
   "cell_type": "code",
   "execution_count": 88,
   "metadata": {},
   "outputs": [],
   "source": [
    "import matplotlib.pyplot as plt\n",
    "%matplotlib inline\n",
    "import numpy as np\n",
    "import pandas as pd\n",
    "import seaborn as sns\n",
    "\n",
    "from sklearn.model_selection import train_test_split, KFold, cross_val_score, GridSearchCV\n",
    "from sklearn.preprocessing import StandardScaler\n",
    "from sklearn.metrics import classification_report, confusion_matrix, f1_score, accuracy_score, roc_curve, auc\n",
    "\n",
    "from sklearn.linear_model import LogisticRegression\n",
    "from sklearn.tree import DecisionTreeClassifier\n",
    "from sklearn.neighbors import KNeighborsClassifier\n",
    "from sklearn.ensemble import RandomForestClassifier, GradientBoostingClassifier\n",
    "from sklearn.pipeline import Pipeline\n",
    "from xgboost import XGBClassifier"
   ]
  },
  {
   "cell_type": "code",
   "execution_count": 89,
   "metadata": {},
   "outputs": [
    {
     "data": {
      "text/plain": [
       "(139616, 45)"
      ]
     },
     "execution_count": 89,
     "metadata": {},
     "output_type": "execute_result"
    }
   ],
   "source": [
    "df = pd.read_csv('../datafiles/CO_2014_2015.csv')\n",
    "df.shape"
   ]
  },
  {
   "cell_type": "code",
   "execution_count": 90,
   "metadata": {},
   "outputs": [],
   "source": [
    "cols = ['Age', 'CustomerLifetimeSpend',\n",
    "       #'Customer1YearSpend', \n",
    "       'Customer3YearSpend', 'ThreeYearVisitCount',\n",
    "       'SkiLoyaltyIndexRating', 'FrontRangeMarket',\n",
    "       'Spend_Winter_2010', 'Spend_Winter_2011', 'Spend_Winter_2012',\n",
    "       'Spend_Winter_2013', 'Spend_Winter_2014', #'Spend_Winter_2015',\n",
    "       #'Household1YearSpend',\n",
    "       'Household3YearSpend', 'HouseholdLifetimeSpend',\n",
    "       'NumberOfHouseholdMembers', 'NumberOfAdults',\n",
    "       'NumberOfChildren', 'Pass_Winter_2010', 'Pass_Winter_2011',\n",
    "       'Pass_Winter_2012', 'Pass_Winter_2013', 'Pass_Winter_2014',\n",
    "       'Early_Purchase_2014_2015', 'Regular_Purchase_2014_2015',\n",
    "       'Late_Purchase_2014_2015', 'Super_Late_Purchase_2014_2015', 'January_15', 'February_15', 'March_15',\n",
    "       'April_15', 'November_14', 'December_14', 'Total_Days_14_15', 'Total_Days_13_14', \n",
    "       'Ski_Resort1_2014_2015',\n",
    "       'Ski_Resort2_2014_2015', 'Ski_Resort3_2014_2015', 'Ski_Resort4_2014_2015', 'Ski_Resort5_2014_2015']"
   ]
  },
  {
   "cell_type": "markdown",
   "metadata": {},
   "source": [
    "#### Assigning X and y"
   ]
  },
  {
   "cell_type": "code",
   "execution_count": 91,
   "metadata": {},
   "outputs": [],
   "source": [
    "X = df[cols]\n",
    "y = df['Pass_Winter_2015']"
   ]
  },
  {
   "cell_type": "markdown",
   "metadata": {},
   "source": [
    "### Baseline for Previous Pass Customers purchasing a 2015/2016 Pass"
   ]
  },
  {
   "cell_type": "code",
   "execution_count": 92,
   "metadata": {},
   "outputs": [
    {
     "data": {
      "text/plain": [
       "0.4682128122851249"
      ]
     },
     "execution_count": 92,
     "metadata": {},
     "output_type": "execute_result"
    }
   ],
   "source": [
    "df['Pass_Winter_2015'].mean()"
   ]
  },
  {
   "cell_type": "markdown",
   "metadata": {},
   "source": [
    "#### Mean of Winter 2015 passes based on if they had a 2014 Pass"
   ]
  },
  {
   "cell_type": "code",
   "execution_count": 93,
   "metadata": {},
   "outputs": [
    {
     "data": {
      "text/plain": [
       "Pass_Winter_2014\n",
       "0    0.335668\n",
       "1    0.631750\n",
       "Name: Pass_Winter_2015, dtype: float64"
      ]
     },
     "execution_count": 93,
     "metadata": {},
     "output_type": "execute_result"
    }
   ],
   "source": [
    "df.groupby('Pass_Winter_2014')['Pass_Winter_2015'].mean()"
   ]
  },
  {
   "cell_type": "markdown",
   "metadata": {},
   "source": [
    "#### Train, Test, Split of X and y"
   ]
  },
  {
   "cell_type": "code",
   "execution_count": 94,
   "metadata": {},
   "outputs": [],
   "source": [
    "X_train, X_test, y_train, y_test = train_test_split(X, y, random_state =42)"
   ]
  },
  {
   "cell_type": "code",
   "execution_count": 95,
   "metadata": {},
   "outputs": [
    {
     "data": {
      "text/plain": [
       "0.46732943693177476"
      ]
     },
     "execution_count": 95,
     "metadata": {},
     "output_type": "execute_result"
    }
   ],
   "source": [
    "y_train.mean()"
   ]
  },
  {
   "cell_type": "code",
   "execution_count": 96,
   "metadata": {},
   "outputs": [
    {
     "data": {
      "text/plain": [
       "0.47086293834517534"
      ]
     },
     "execution_count": 96,
     "metadata": {},
     "output_type": "execute_result"
    }
   ],
   "source": [
    "y_test.mean()"
   ]
  },
  {
   "cell_type": "markdown",
   "metadata": {},
   "source": [
    "#### Scaling the data for some of the models"
   ]
  },
  {
   "cell_type": "code",
   "execution_count": 97,
   "metadata": {},
   "outputs": [],
   "source": [
    "ss = StandardScaler()\n",
    "# Fit Scaler on X_train data from TTS\n",
    "ss.fit(X_train)\n",
    "# Transform X_Train data from TTS\n",
    "X_train_scaled = ss.transform(X_train)\n",
    "#Transform X_test from TTS\n",
    "X_test_scaled = ss.transform(X_test)"
   ]
  },
  {
   "cell_type": "markdown",
   "metadata": {},
   "source": [
    "### Scaled Logistic Regression"
   ]
  },
  {
   "cell_type": "code",
   "execution_count": 98,
   "metadata": {},
   "outputs": [
    {
     "name": "stdout",
     "output_type": "stream",
     "text": [
      "Logreg intercept: [0.07248023]\n",
      "Logreg coef(s): [[-8.12111295e-02 -4.87967734e-01  1.44218291e+00  2.74497348e-01\n",
      "  -1.17078441e-01  7.68932955e-02  2.32923494e-02  5.20209961e-03\n",
      "   1.45846580e-02 -1.09695956e-01 -1.40721366e-01  2.14854757e+00\n",
      "  -1.24104022e+00 -1.76163831e+00  1.15005729e+00  9.03451266e-01\n",
      "  -1.99049831e-01 -1.69881634e-01  1.33969752e-01  6.59998549e-02\n",
      "   6.59978250e-02  2.63496466e-01  2.35083465e-02 -1.37210480e-01\n",
      "  -9.35203445e-02  7.26006035e-02  1.58282430e-01  1.48886020e-01\n",
      "   1.10094052e-02 -9.25607616e-02 -9.74272601e-02  6.38846379e-02\n",
      "   2.98015719e-02 -1.60452336e-02 -1.23999844e-02 -1.28106584e-01\n",
      "  -1.33831562e-04  2.78324009e-01]]\n",
      "Logreg Training CrossVal score: 0.7336504162971677\n",
      "Logreg Testing score: 0.731692642677057\n",
      "CPU times: user 11.4 s, sys: 415 ms, total: 11.8 s\n",
      "Wall time: 12.9 s\n"
     ]
    }
   ],
   "source": [
    "%%time\n",
    "#Instantiate model.\n",
    "logreg = LogisticRegression()\n",
    "#Fit model.\n",
    "logreg.fit(X_train_scaled, y_train)\n",
    "# After fitting: Print out intercept and coefficients.\n",
    "print('Logreg intercept:', logreg.intercept_)\n",
    "print('Logreg coef(s):', logreg.coef_)\n",
    "print('Logreg Training CrossVal score:', cross_val_score(logreg, X_train_scaled, y_train).mean())\n",
    "print('Logreg Testing score:', logreg.score(X_test_scaled,y_test))"
   ]
  },
  {
   "cell_type": "markdown",
   "metadata": {},
   "source": [
    "### Non-scaled Logistic Regression"
   ]
  },
  {
   "cell_type": "code",
   "execution_count": 99,
   "metadata": {},
   "outputs": [
    {
     "name": "stdout",
     "output_type": "stream",
     "text": [
      "Logreg Training CrossVal score: 0.7341565629431587\n",
      "Logreg Testing score: 0.7310050424020169\n",
      "CPU times: user 15.4 s, sys: 339 ms, total: 15.7 s\n",
      "Wall time: 16 s\n"
     ]
    }
   ],
   "source": [
    "%%time\n",
    "#Instantiate model.\n",
    "logreg = LogisticRegression()\n",
    "#Fit model.\n",
    "logreg.fit(X_train, y_train)\n",
    "# After fitting: Print out intercept and coefficients.\n",
    "print('Logreg Training CrossVal score:', cross_val_score(logreg, X_train, y_train).mean())\n",
    "print('Logreg Testing score:', logreg.score(X_test,y_test))"
   ]
  },
  {
   "cell_type": "markdown",
   "metadata": {},
   "source": [
    "### There is virtually no difference in the Scaled vs Non-Scaled, so I am going to work with the Non-Scaled model for deeper analysis and tuning."
   ]
  },
  {
   "cell_type": "markdown",
   "metadata": {},
   "source": [
    "#### Exponentiate the coefficients to improve readability"
   ]
  },
  {
   "cell_type": "code",
   "execution_count": 100,
   "metadata": {
    "scrolled": true
   },
   "outputs": [
    {
     "data": {
      "text/plain": [
       "[('Age', 0.9945004858357662),\n",
       " ('CustomerLifetimeSpend', 0.9998515830687781),\n",
       " ('Customer3YearSpend', 1.000823574399601),\n",
       " ('ThreeYearVisitCount', 1.0139203460187205),\n",
       " ('SkiLoyaltyIndexRating', 0.9732665322889624),\n",
       " ('FrontRangeMarket', 1.2024282933152153),\n",
       " ('Spend_Winter_2010', 1.0003827522159576),\n",
       " ('Spend_Winter_2011', 1.0000794406858982),\n",
       " ('Spend_Winter_2012', 1.0002034236882846),\n",
       " ('Spend_Winter_2013', 0.9986982746317093),\n",
       " ('Spend_Winter_2014', 0.9985180623190255),\n",
       " ('Household3YearSpend', 1.0006054186926843),\n",
       " ('HouseholdLifetimeSpend', 0.9997019683740387),\n",
       " ('NumberOfHouseholdMembers', 0.9177719511490586),\n",
       " ('NumberOfAdults', 0.9752411651878385),\n",
       " ('NumberOfChildren', 0.9551783548161913),\n",
       " ('Pass_Winter_2010', 0.561086860651145),\n",
       " ('Pass_Winter_2011', 0.6758263382058886),\n",
       " ('Pass_Winter_2012', 1.35672380989086),\n",
       " ('Pass_Winter_2013', 1.1879090167936843),\n",
       " ('Pass_Winter_2014', 1.135258391805119),\n",
       " ('Early_Purchase_2014_2015', 2.3155742950511597),\n",
       " ('Regular_Purchase_2014_2015', 1.0520605128849934),\n",
       " ('Late_Purchase_2014_2015', 0.6599997295152089),\n",
       " ('Super_Late_Purchase_2014_2015', 0.7060761190036706),\n",
       " ('January_15', 1.0255099541833586),\n",
       " ('February_15', 1.0614834185394957),\n",
       " ('March_15', 1.0647952069973772),\n",
       " ('April_15', 1.0028146344012259),\n",
       " ('November_14', 0.8945224621187082),\n",
       " ('December_14', 0.9588550486902013),\n",
       " ('Total_Days_14_15', 0.9969745110562275),\n",
       " ('Total_Days_13_14', 1.0026446659367692),\n",
       " ('Ski_Resort1_2014_2015', 0.9868764041944637),\n",
       " ('Ski_Resort2_2014_2015', 0.9636219610740975),\n",
       " ('Ski_Resort3_2014_2015', 0.9955035948835611),\n",
       " ('Ski_Resort4_2014_2015', 0.9935209283309209),\n",
       " ('Ski_Resort5_2014_2015', 1.0599728666229247)]"
      ]
     },
     "execution_count": 100,
     "metadata": {},
     "output_type": "execute_result"
    }
   ],
   "source": [
    "list(zip(X.columns, np.exp(logreg.coef_[0])))"
   ]
  },
  {
   "cell_type": "markdown",
   "metadata": {},
   "source": [
    "## Code to plot importance of coefficients"
   ]
  },
  {
   "cell_type": "code",
   "execution_count": 101,
   "metadata": {},
   "outputs": [],
   "source": [
    "def plot_coefficients(classifier, feature_names, top_features=20):\n",
    "    coef = classifier.coef_.ravel()\n",
    "    top_positive_coefficients = np.argsort(coef)[-top_features:]\n",
    "    top_negative_coefficients = np.argsort(coef)[:top_features]\n",
    "    top_coefficients = np.hstack([top_negative_coefficients, top_positive_coefficients])\n",
    "    # create plot\n",
    "    plt.figure(figsize=(15, 5))\n",
    "    colors = ['red' if c < 0 else 'blue' for c in coef[top_coefficients]]\n",
    "    plt.bar(np.arange(2 * top_features), coef[top_coefficients], color=colors)\n",
    "    feature_names = np.array(feature_names)\n",
    "    plt.xticks(np.arange(1, 1 + 2 * top_features), feature_names[top_coefficients], rotation=60, ha='right')\n",
    "    plt.show()"
   ]
  },
  {
   "cell_type": "code",
   "execution_count": 102,
   "metadata": {},
   "outputs": [
    {
     "data": {
      "image/png": "[encoded data removed]",
      "text/plain": [
       "<Figure size 1080x360 with 1 Axes>"
      ]
     },
     "metadata": {},
     "output_type": "display_data"
    }
   ],
   "source": [
    "plot_coefficients(logreg,X.columns)"
   ]
  },
  {
   "cell_type": "code",
   "execution_count": 103,
   "metadata": {},
   "outputs": [
    {
     "name": "stdout",
     "output_type": "stream",
     "text": [
      "Accuracy: 73.10%\n"
     ]
    }
   ],
   "source": [
    "predictions = logreg.predict(X_test)\n",
    "print(\"Accuracy: %.2f%%\" % (accuracy_score(y_test, predictions) * 100.0))"
   ]
  },
  {
   "cell_type": "code",
   "execution_count": 104,
   "metadata": {},
   "outputs": [
    {
     "data": {
      "image/png": "[encoded data removed]",
      "text/plain": [
       "<Figure size 432x288 with 2 Axes>"
      ]
     },
     "metadata": {},
     "output_type": "display_data"
    }
   ],
   "source": [
    "confusion_matrix_lr = confusion_matrix(y_test, predictions)\n",
    "confusion_matrix_df = pd.DataFrame(confusion_matrix_lr, ('No Renew', 'Renew'), ('No Renew', 'Renew'))\n",
    "heatmap = sns.heatmap(confusion_matrix_df, annot=True, annot_kws={\"size\": 20}, fmt=\"d\")\n",
    "heatmap.yaxis.set_ticklabels(heatmap.yaxis.get_ticklabels(), rotation=0, ha='right', fontsize = 14)\n",
    "heatmap.xaxis.set_ticklabels(heatmap.xaxis.get_ticklabels(), rotation=45, ha='right', fontsize = 14)\n",
    "plt.ylabel('True label', fontsize = 14)\n",
    "plt.xlabel('Predicted label', fontsize = 14)\n",
    "plt.show();"
   ]
  },
  {
   "cell_type": "markdown",
   "metadata": {},
   "source": [
    "#### Store predictions dataframe for analysis"
   ]
  },
  {
   "cell_type": "code",
   "execution_count": 105,
   "metadata": {},
   "outputs": [
    {
     "data": {
      "text/html": [
       "<div>\n",
       "<style scoped>\n",
       "    .dataframe tbody tr th:only-of-type {\n",
       "        vertical-align: middle;\n",
       "    }\n",
       "\n",
       "    .dataframe tbody tr th {\n",
       "        vertical-align: top;\n",
       "    }\n",
       "\n",
       "    .dataframe thead th {\n",
       "        text-align: right;\n",
       "    }\n",
       "</style>\n",
       "<table border=\"1\" class=\"dataframe\">\n",
       "  <thead>\n",
       "    <tr style=\"text-align: right;\">\n",
       "      <th></th>\n",
       "      <th>Pass_Winter_2015</th>\n",
       "      <th>actual_y</th>\n",
       "      <th>predicted_label</th>\n",
       "      <th>predicted_proba</th>\n",
       "    </tr>\n",
       "  </thead>\n",
       "  <tbody>\n",
       "    <tr>\n",
       "      <th>33735</th>\n",
       "      <td>1</td>\n",
       "      <td>1</td>\n",
       "      <td>1</td>\n",
       "      <td>0.521992</td>\n",
       "    </tr>\n",
       "    <tr>\n",
       "      <th>89699</th>\n",
       "      <td>0</td>\n",
       "      <td>0</td>\n",
       "      <td>0</td>\n",
       "      <td>0.336430</td>\n",
       "    </tr>\n",
       "    <tr>\n",
       "      <th>104196</th>\n",
       "      <td>1</td>\n",
       "      <td>1</td>\n",
       "      <td>1</td>\n",
       "      <td>0.880901</td>\n",
       "    </tr>\n",
       "    <tr>\n",
       "      <th>87504</th>\n",
       "      <td>0</td>\n",
       "      <td>0</td>\n",
       "      <td>0</td>\n",
       "      <td>0.197948</td>\n",
       "    </tr>\n",
       "    <tr>\n",
       "      <th>32690</th>\n",
       "      <td>1</td>\n",
       "      <td>1</td>\n",
       "      <td>0</td>\n",
       "      <td>0.321826</td>\n",
       "    </tr>\n",
       "  </tbody>\n",
       "</table>\n",
       "</div>"
      ],
      "text/plain": [
       "        Pass_Winter_2015  actual_y  predicted_label  predicted_proba\n",
       "33735                  1         1                1         0.521992\n",
       "89699                  0         0                0         0.336430\n",
       "104196                 1         1                1         0.880901\n",
       "87504                  0         0                0         0.197948\n",
       "32690                  1         1                0         0.321826"
      ]
     },
     "execution_count": 105,
     "metadata": {},
     "output_type": "execute_result"
    }
   ],
   "source": [
    "predictions_proba = logreg.predict_proba(X_test)\n",
    "df_lr = pd.DataFrame(y_test)\n",
    "df_lr.loc[:, 'actual_y'] = y\n",
    "df_lr.loc[:, 'predicted_label'] = predictions\n",
    "df_lr.loc[:, 'predicted_proba'] = predictions_proba[:, 1]\n",
    "df_lr.head()"
   ]
  },
  {
   "cell_type": "markdown",
   "metadata": {},
   "source": [
    "#### Plot  ROC/AUC Curve"
   ]
  },
  {
   "cell_type": "code",
   "execution_count": 106,
   "metadata": {},
   "outputs": [
    {
     "name": "stderr",
     "output_type": "stream",
     "text": [
      "/Users/craigstrong/anaconda3/lib/python3.6/site-packages/matplotlib/cbook/deprecation.py:107: MatplotlibDeprecationWarning: Passing one of 'on', 'true', 'off', 'false' as a boolean is deprecated; use an actual boolean (True/False) instead.\n",
      "  warnings.warn(message, mplDeprecation, stacklevel=1)\n"
     ]
    },
    {
     "data": {
      "image/png": "[encoded data removed]",
      "text/plain": [
       "<Figure size 864x864 with 1 Axes>"
      ]
     },
     "metadata": {},
     "output_type": "display_data"
    },
    {
     "name": "stdout",
     "output_type": "stream",
     "text": [
      "AUC: 0.8273305141038101\n"
     ]
    }
   ],
   "source": [
    "# Generate False positive rate and True positive rate\n",
    "tpr, fpr, thresholds = roc_curve(y_test,df_lr['predicted_proba'], pos_label=0)\n",
    "roc_auc = auc(fpr, tpr)\n",
    "\n",
    "# Plot \n",
    "plt.figure(figsize=(12,12))\n",
    "line_width = 3\n",
    "plt.plot(fpr, tpr, lw = line_width, color=\"darkorange\", label = \"ROC Curve %.2f\" % roc_auc)\n",
    "plt.plot([0,1], [0, 1], lw = line_width, linestyle=\"--\", color=\"navy\")\n",
    "plt.xlim([0.0, 1.0])\n",
    "plt.ylim([0.0, 1.05])\n",
    "plt.xlabel('False Positive Rate')\n",
    "plt.ylabel('True Positive Rate')\n",
    "plt.title('ROC')\n",
    "plt.grid(\"True\")\n",
    "plt.legend(loc=\"lower right\")\n",
    "plt.show()\n",
    "\n",
    "# Print AUC\n",
    "auc = np.trapz(tpr,fpr)\n",
    "print('AUC:', auc)"
   ]
  },
  {
   "cell_type": "markdown",
   "metadata": {},
   "source": [
    "## We want to minimize False Positives, because there is limited harm in identifying customers as not likely to renew instead of being overconfident that they will renew."
   ]
  },
  {
   "cell_type": "code",
   "execution_count": 107,
   "metadata": {},
   "outputs": [],
   "source": [
    "def get_confusion_metric(row):    \n",
    "    if row['actual_y'] == 1.0 and row['predicted_label'] == 1.0:\n",
    "        row['confusion_metric'] = \"True Positive\"\n",
    "    if row['actual_y'] == 1.0 and row['predicted_label'] == 0.0:\n",
    "        row['confusion_metric'] = \"False Negative\"\n",
    "    if row['actual_y'] == 0.0 and row['predicted_label'] == 0.0:\n",
    "        row['confusion_metric'] = \"True Negative\"\n",
    "    if row['actual_y'] == 0.0 and row['predicted_label'] == 1.0:\n",
    "        row['confusion_metric'] = \"False Positive\"\n",
    "    return row"
   ]
  },
  {
   "cell_type": "markdown",
   "metadata": {},
   "source": [
    "#### Change Prediction based on a Threshold of .65 instead of the .5. We want to minimize False Positives."
   ]
  },
  {
   "cell_type": "code",
   "execution_count": 108,
   "metadata": {},
   "outputs": [
    {
     "data": {
      "text/plain": [
       "False Negative     9037\n",
       "False Positive     1479\n",
       "True Negative     16990\n",
       "True Positive      7398\n",
       "Name: confusion_metric, dtype: int64"
      ]
     },
     "execution_count": 108,
     "metadata": {},
     "output_type": "execute_result"
    }
   ],
   "source": [
    "#%%time\n",
    "# Threshold of .65\n",
    "df_lr.loc[:,'predicted_label'] = df_lr['predicted_proba'].map(lambda p: 1 if p > .65 else 0)\n",
    "df_lr.apply(get_confusion_metric, axis = 1)['confusion_metric'].value_counts().sort_index()"
   ]
  },
  {
   "cell_type": "markdown",
   "metadata": {},
   "source": [
    "#### Create a column that says if the prediction was incorrect for analysis in Tableau"
   ]
  },
  {
   "cell_type": "code",
   "execution_count": 109,
   "metadata": {},
   "outputs": [],
   "source": [
    "df_lr = df_lr[['actual_y', 'predicted_label','predicted_proba']].assign(not_equal=df_lr.actual_y != df_lr.predicted_label)"
   ]
  },
  {
   "cell_type": "markdown",
   "metadata": {},
   "source": [
    "#### Merge the test predictions with the features for analysis in Tableau"
   ]
  },
  {
   "cell_type": "code",
   "execution_count": 110,
   "metadata": {},
   "outputs": [],
   "source": [
    "df_lr_out = pd.merge(df, df_lr, left_index=True, right_index=True)"
   ]
  },
  {
   "cell_type": "code",
   "execution_count": 111,
   "metadata": {},
   "outputs": [
    {
     "data": {
      "text/plain": [
       "(34904, 4)"
      ]
     },
     "execution_count": 111,
     "metadata": {},
     "output_type": "execute_result"
    }
   ],
   "source": [
    "df_lr.shape"
   ]
  },
  {
   "cell_type": "code",
   "execution_count": 112,
   "metadata": {},
   "outputs": [
    {
     "data": {
      "text/plain": [
       "(34904, 49)"
      ]
     },
     "execution_count": 112,
     "metadata": {},
     "output_type": "execute_result"
    }
   ],
   "source": [
    "df_lr_out.shape"
   ]
  },
  {
   "cell_type": "markdown",
   "metadata": {},
   "source": [
    "### Output test file with predicitions and predict_proba values for analysis in Tableau"
   ]
  },
  {
   "cell_type": "code",
   "execution_count": 113,
   "metadata": {},
   "outputs": [],
   "source": [
    "pd.DataFrame(df_lr_out).to_csv('../datafiles/CO_2015_2016_LR.csv', index=False)"
   ]
  }
 ],
 "metadata": {
  "kernelspec": {
   "display_name": "Python 3",
   "language": "python",
   "name": "python3"
  },
  "language_info": {
   "codemirror_mode": {
    "name": "ipython",
    "version": 3
   },
   "file_extension": ".py",
   "mimetype": "text/x-python",
   "name": "python",
   "nbconvert_exporter": "python",
   "pygments_lexer": "ipython3",
   "version": "3.6.5"
  }
 },
 "nbformat": 4,
 "nbformat_minor": 2
}
